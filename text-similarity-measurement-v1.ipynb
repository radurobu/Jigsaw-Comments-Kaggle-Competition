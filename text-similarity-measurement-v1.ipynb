{
 "cells": [
  {
   "cell_type": "markdown",
   "id": "cec020da",
   "metadata": {
    "papermill": {
     "duration": 0.031673,
     "end_time": "2021-12-26T21:20:45.576026",
     "exception": false,
     "start_time": "2021-12-26T21:20:45.544353",
     "status": "completed"
    },
    "tags": []
   },
   "source": [
    "# ☣️ Jigsaw \n",
    "\n",
    "\n",
    "Using data from [Toxic Comment Classification Challenge](https://www.kaggle.com/c/jigsaw-toxic-comment-classification-challenge)\n",
    "\n",
    "I have created a dataset for this data. It's public here :\n",
    "* [jigsaw-toxic-comment-classification-challenge](https://www.kaggle.com/julian3833/jigsaw-toxic-comment-classification-challenge)\n",
    "\n",
    "\n",
    "# Please, _DO_ upvote!"
   ]
  },
  {
   "cell_type": "markdown",
   "id": "359736fc",
   "metadata": {
    "papermill": {
     "duration": 0.030162,
     "end_time": "2021-12-26T21:20:45.635415",
     "exception": false,
     "start_time": "2021-12-26T21:20:45.605253",
     "status": "completed"
    },
    "tags": []
   },
   "source": [
    "Related Datasets:\n",
    "\n",
    "https://www.kaggle.com/c/jigsaw-toxic-comment-classification-challenge\n",
    "\n",
    "https://www.kaggle.com/c/jigsaw-unintended-bias-in-toxicity-classification\n",
    "\n",
    "https://www.kaggle.com/ashwiniyer176/toxic-tweets-dataset\n",
    "\n",
    "https://www.kaggle.com/manishguptads/wikipedia-toxicity\n",
    "\n",
    "https://www.kaggle.com/surekharamireddy/malignant-comment-classification\n",
    "\n",
    "https://www.kaggle.com/shobhitupadhyaya/jigsaw-training-dataset"
   ]
  },
  {
   "cell_type": "markdown",
   "id": "f6a0b60b",
   "metadata": {
    "papermill": {
     "duration": 0.028022,
     "end_time": "2021-12-26T21:20:45.691987",
     "exception": false,
     "start_time": "2021-12-26T21:20:45.663965",
     "status": "completed"
    },
    "tags": []
   },
   "source": [
    "# Imports"
   ]
  },
  {
   "cell_type": "code",
   "execution_count": 1,
   "id": "7f544409",
   "metadata": {
    "execution": {
     "iopub.execute_input": "2021-12-26T21:20:45.754474Z",
     "iopub.status.busy": "2021-12-26T21:20:45.753180Z",
     "iopub.status.idle": "2021-12-26T21:20:46.679020Z",
     "shell.execute_reply": "2021-12-26T21:20:46.678105Z",
     "shell.execute_reply.started": "2021-12-26T19:48:10.775148Z"
    },
    "papermill": {
     "duration": 0.957475,
     "end_time": "2021-12-26T21:20:46.679206",
     "exception": false,
     "start_time": "2021-12-26T21:20:45.721731",
     "status": "completed"
    },
    "tags": []
   },
   "outputs": [],
   "source": [
    "import pandas as pd\n",
    "import numpy as np\n",
    "from sklearn.feature_extraction.text import TfidfVectorizer\n",
    "import scipy\n",
    "from scipy.spatial import distance\n",
    "from scipy.sparse.linalg import norm\n",
    "from scipy.sparse import csr_matrix"
   ]
  },
  {
   "cell_type": "code",
   "execution_count": 2,
   "id": "00031071",
   "metadata": {
    "execution": {
     "iopub.execute_input": "2021-12-26T21:20:46.745245Z",
     "iopub.status.busy": "2021-12-26T21:20:46.744308Z",
     "iopub.status.idle": "2021-12-26T21:20:46.748248Z",
     "shell.execute_reply": "2021-12-26T21:20:46.747552Z",
     "shell.execute_reply.started": "2021-12-26T19:48:10.781194Z"
    },
    "papermill": {
     "duration": 0.040643,
     "end_time": "2021-12-26T21:20:46.748404",
     "exception": false,
     "start_time": "2021-12-26T21:20:46.707761",
     "status": "completed"
    },
    "tags": []
   },
   "outputs": [],
   "source": [
    "def clean(data, col):\n",
    "\n",
    "    # Clean some punctutations\n",
    "    data[col] = data[col].str.replace('\\n', ' ')\n",
    "    # Remove ip address\n",
    "    data[col] = data[col].str.replace(r'(([0-9]+\\.){2,}[0-9]+)',' ')\n",
    "    \n",
    "    data[col] = data[col].str.replace(r'([a-zA-Z]+)([/!?.])([a-zA-Z]+)',r'\\1 \\2 \\3')\n",
    "    # Replace repeating characters more than 3 times to length of 3\n",
    "    data[col] = data[col].str.replace(r'([*!?\\'])\\1\\1{2,}',r'\\1\\1\\1')\n",
    "    # patterns with repeating characters \n",
    "    data[col] = data[col].str.replace(r'([a-zA-Z])\\1{2,}\\b',r'\\1\\1')\n",
    "    data[col] = data[col].str.replace(r'([a-zA-Z])\\1\\1{2,}\\B',r'\\1\\1\\1')\n",
    "    data[col] = data[col].str.replace(r'[ ]{2,}',' ').str.strip()   \n",
    "    # Add space around repeating characters\n",
    "    #data[col] = data[col].str.replace(r'([*!?\\']+)',r' \\1 ')    \n",
    "    \n",
    "    # Lowercase chars\n",
    "    data[col] = data[col].str.lower()\n",
    "    \n",
    "    # Remove punctuation\n",
    "    #data[col] = data[col].str.replace('[^\\w\\s]','')\n",
    "    \n",
    "    return data"
   ]
  },
  {
   "cell_type": "code",
   "execution_count": 3,
   "id": "16f12a61",
   "metadata": {
    "execution": {
     "iopub.execute_input": "2021-12-26T21:20:46.812134Z",
     "iopub.status.busy": "2021-12-26T21:20:46.811026Z",
     "iopub.status.idle": "2021-12-26T21:21:15.017050Z",
     "shell.execute_reply": "2021-12-26T21:21:15.017599Z",
     "shell.execute_reply.started": "2021-12-26T19:48:10.802031Z"
    },
    "papermill": {
     "duration": 28.240446,
     "end_time": "2021-12-26T21:21:15.017858",
     "exception": false,
     "start_time": "2021-12-26T21:20:46.777412",
     "status": "completed"
    },
    "tags": []
   },
   "outputs": [
    {
     "name": "stderr",
     "output_type": "stream",
     "text": [
      "/opt/conda/lib/python3.7/site-packages/ipykernel_launcher.py:6: FutureWarning: The default value of regex will change from True to False in a future version.\n",
      "  \n",
      "/opt/conda/lib/python3.7/site-packages/ipykernel_launcher.py:8: FutureWarning: The default value of regex will change from True to False in a future version.\n",
      "  \n",
      "/opt/conda/lib/python3.7/site-packages/ipykernel_launcher.py:10: FutureWarning: The default value of regex will change from True to False in a future version.\n",
      "  # Remove the CWD from sys.path while we load stuff.\n",
      "/opt/conda/lib/python3.7/site-packages/ipykernel_launcher.py:12: FutureWarning: The default value of regex will change from True to False in a future version.\n",
      "  if sys.path[0] == '':\n",
      "/opt/conda/lib/python3.7/site-packages/ipykernel_launcher.py:13: FutureWarning: The default value of regex will change from True to False in a future version.\n",
      "  del sys.path[0]\n",
      "/opt/conda/lib/python3.7/site-packages/ipykernel_launcher.py:14: FutureWarning: The default value of regex will change from True to False in a future version.\n",
      "  \n"
     ]
    }
   ],
   "source": [
    "df_orig = pd.read_csv(\"../input/jigsaw-toxic-severity-rating/validation_data.csv\")\n",
    "df_orig = pd.concat([ df_orig.drop(columns=['more_toxic']).rename(columns={'less_toxic':'text'}),\n",
    "                     df_orig.drop(columns=['less_toxic']).rename(columns={'more_toxic':'text'}) ]).reset_index(drop=True)\n",
    "df_orig = clean(df_orig, \"text\")\n",
    "#df_orig.sample(20)"
   ]
  },
  {
   "cell_type": "code",
   "execution_count": 4,
   "id": "0773e51d",
   "metadata": {
    "execution": {
     "iopub.execute_input": "2021-12-26T21:21:15.084023Z",
     "iopub.status.busy": "2021-12-26T21:21:15.083302Z",
     "iopub.status.idle": "2021-12-26T21:22:14.238757Z",
     "shell.execute_reply": "2021-12-26T21:22:14.239362Z",
     "shell.execute_reply.started": "2021-12-26T19:48:38.841172Z"
    },
    "papermill": {
     "duration": 59.190354,
     "end_time": "2021-12-26T21:22:14.239574",
     "exception": false,
     "start_time": "2021-12-26T21:21:15.049220",
     "status": "completed"
    },
    "tags": []
   },
   "outputs": [
    {
     "name": "stderr",
     "output_type": "stream",
     "text": [
      "/opt/conda/lib/python3.7/site-packages/ipykernel_launcher.py:6: FutureWarning: The default value of regex will change from True to False in a future version.\n",
      "  \n",
      "/opt/conda/lib/python3.7/site-packages/ipykernel_launcher.py:8: FutureWarning: The default value of regex will change from True to False in a future version.\n",
      "  \n",
      "/opt/conda/lib/python3.7/site-packages/ipykernel_launcher.py:10: FutureWarning: The default value of regex will change from True to False in a future version.\n",
      "  # Remove the CWD from sys.path while we load stuff.\n",
      "/opt/conda/lib/python3.7/site-packages/ipykernel_launcher.py:12: FutureWarning: The default value of regex will change from True to False in a future version.\n",
      "  if sys.path[0] == '':\n",
      "/opt/conda/lib/python3.7/site-packages/ipykernel_launcher.py:13: FutureWarning: The default value of regex will change from True to False in a future version.\n",
      "  del sys.path[0]\n",
      "/opt/conda/lib/python3.7/site-packages/ipykernel_launcher.py:14: FutureWarning: The default value of regex will change from True to False in a future version.\n",
      "  \n"
     ]
    }
   ],
   "source": [
    "df1 = pd.read_csv(\"../input/jigsaw-toxic-comment-classification-challenge/train.csv\")\n",
    "df1['y'] = (df1[['toxic', 'severe_toxic', 'obscene', 'threat', 'insult', 'identity_hate']].sum(axis=1) > 0 ).astype(int)\n",
    "df1 = df1[['comment_text', 'y']].rename(columns={'comment_text': 'text'})\n",
    "df1 = clean(df1, \"text\")\n",
    "# Drop comun comments from validation data\n",
    "df1 = df1[ ~df1['text'].isin(df_orig['text']) ].reset_index(drop=True)\n",
    "#df1.sample(20)"
   ]
  },
  {
   "cell_type": "markdown",
   "id": "da23ddd4",
   "metadata": {
    "papermill": {
     "duration": 0.032347,
     "end_time": "2021-12-26T21:22:14.303815",
     "exception": false,
     "start_time": "2021-12-26T21:22:14.271468",
     "status": "completed"
    },
    "tags": []
   },
   "source": [
    "# TF-IDF with Cosine Similarity"
   ]
  },
  {
   "cell_type": "code",
   "execution_count": 5,
   "id": "dd32a038",
   "metadata": {
    "execution": {
     "iopub.execute_input": "2021-12-26T21:22:14.374773Z",
     "iopub.status.busy": "2021-12-26T21:22:14.371180Z",
     "iopub.status.idle": "2021-12-26T21:22:14.377441Z",
     "shell.execute_reply": "2021-12-26T21:22:14.376905Z",
     "shell.execute_reply.started": "2021-12-26T19:49:38.447886Z"
    },
    "papermill": {
     "duration": 0.04166,
     "end_time": "2021-12-26T21:22:14.377597",
     "exception": false,
     "start_time": "2021-12-26T21:22:14.335937",
     "status": "completed"
    },
    "tags": []
   },
   "outputs": [],
   "source": [
    "def TF_ID_cosine_distance(orig,df):\n",
    "    len_orig=len(orig.values)\n",
    "    join = np.concatenate((orig.values, df.values), axis=0)\n",
    "    vec = TfidfVectorizer()\n",
    "    X_vec = vec.fit_transform(join)\n",
    "    X_orig = X_vec[:len_orig,:]\n",
    "    X_df = X_vec[len_orig:,:]\n",
    "    idx, cos_sim = calc_cosine_argmax(X_orig,X_df)\n",
    "    return X_orig, X_df, idx, cos_sim"
   ]
  },
  {
   "cell_type": "code",
   "execution_count": 6,
   "id": "35eb3c7c",
   "metadata": {
    "execution": {
     "iopub.execute_input": "2021-12-26T21:22:14.452061Z",
     "iopub.status.busy": "2021-12-26T21:22:14.446113Z",
     "iopub.status.idle": "2021-12-26T21:22:14.454985Z",
     "shell.execute_reply": "2021-12-26T21:22:14.454287Z",
     "shell.execute_reply.started": "2021-12-26T19:49:38.456701Z"
    },
    "papermill": {
     "duration": 0.045412,
     "end_time": "2021-12-26T21:22:14.455137",
     "exception": false,
     "start_time": "2021-12-26T21:22:14.409725",
     "status": "completed"
    },
    "tags": []
   },
   "outputs": [],
   "source": [
    "def calc_cosine_argmax(X_orig,X_df):\n",
    "    idx = np.empty((0,1), int)\n",
    "    cos_sim = np.empty((0,1), int)\n",
    "    for i in range(0, int(X_orig.shape[0] / 100)):\n",
    "        start = i * 100\n",
    "        stop = i * 100 + 100\n",
    "        #print(start)\n",
    "        cosine = X_orig[start:stop].dot(X_df.T) #/(norm(X_orig[start:stop]) * norm(X_df)) * 100\n",
    "        cos_aux = csr_matrix.max(cosine,axis=1)\n",
    "        idx_aux = csr_matrix.argmax(cosine,axis=1)\n",
    "        X_df = delete_rows_csr(X_df,idx_aux)\n",
    "        idx = np.vstack((idx,idx_aux))\n",
    "        cos_sim = np.vstack((cos_sim,cos_aux.toarray()))\n",
    "        \n",
    "        if X_df.shape[0] == 0:\n",
    "            break\n",
    "            \n",
    "    return idx, cos_sim"
   ]
  },
  {
   "cell_type": "code",
   "execution_count": 7,
   "id": "c7b4cd54",
   "metadata": {
    "execution": {
     "iopub.execute_input": "2021-12-26T21:22:14.526283Z",
     "iopub.status.busy": "2021-12-26T21:22:14.525507Z",
     "iopub.status.idle": "2021-12-26T21:22:14.528169Z",
     "shell.execute_reply": "2021-12-26T21:22:14.527651Z",
     "shell.execute_reply.started": "2021-12-26T19:49:38.474228Z"
    },
    "papermill": {
     "duration": 0.040998,
     "end_time": "2021-12-26T21:22:14.528322",
     "exception": false,
     "start_time": "2021-12-26T21:22:14.487324",
     "status": "completed"
    },
    "tags": []
   },
   "outputs": [],
   "source": [
    "def delete_rows_csr(mat, indices):\n",
    "    \"\"\"\n",
    "    Remove the rows denoted by ``indices`` form the CSR sparse matrix ``mat``.\n",
    "    \"\"\"\n",
    "    if not isinstance(mat, scipy.sparse.csr_matrix):\n",
    "        raise ValueError(\"works only for CSR format -- use .tocsr() first\")\n",
    "    indices = list(indices)\n",
    "    mask = np.ones(mat.shape[0], dtype=bool)\n",
    "    mask[indices] = False\n",
    "    return mat[mask]"
   ]
  },
  {
   "cell_type": "code",
   "execution_count": 8,
   "id": "f3c6c956",
   "metadata": {
    "execution": {
     "iopub.execute_input": "2021-12-26T21:22:14.596784Z",
     "iopub.status.busy": "2021-12-26T21:22:14.596097Z",
     "iopub.status.idle": "2021-12-26T21:38:18.401465Z",
     "shell.execute_reply": "2021-12-26T21:38:18.400546Z",
     "shell.execute_reply.started": "2021-12-26T19:49:38.486339Z"
    },
    "papermill": {
     "duration": 963.840721,
     "end_time": "2021-12-26T21:38:18.401753",
     "exception": false,
     "start_time": "2021-12-26T21:22:14.561032",
     "status": "completed"
    },
    "tags": []
   },
   "outputs": [],
   "source": [
    "X_orig, X_df1, idx1, cos_sim1 = TF_ID_cosine_distance(df_orig['text'],df1['text'])"
   ]
  },
  {
   "cell_type": "code",
   "execution_count": 9,
   "id": "2ea7a662",
   "metadata": {
    "execution": {
     "iopub.execute_input": "2021-12-26T21:38:18.477234Z",
     "iopub.status.busy": "2021-12-26T21:38:18.476536Z",
     "iopub.status.idle": "2021-12-26T21:38:18.558334Z",
     "shell.execute_reply": "2021-12-26T21:38:18.557457Z",
     "shell.execute_reply.started": "2021-12-26T20:05:40.875515Z"
    },
    "papermill": {
     "duration": 0.121735,
     "end_time": "2021-12-26T21:38:18.558556",
     "exception": false,
     "start_time": "2021-12-26T21:38:18.436821",
     "status": "completed"
    },
    "tags": []
   },
   "outputs": [
    {
     "name": "stdout",
     "output_type": "stream",
     "text": [
      "38\n",
      "0.32108676466532066\n",
      "0.2894809359489255\n",
      "27702\n"
     ]
    }
   ],
   "source": [
    "print(len(np.argwhere(cos_sim1 ==1)))\n",
    "print(cos_sim1.mean())\n",
    "print(np.median(cos_sim1))\n",
    "print(len(np.unique(idx1, axis=0)))"
   ]
  },
  {
   "cell_type": "code",
   "execution_count": 10,
   "id": "4e82db6e",
   "metadata": {
    "execution": {
     "iopub.execute_input": "2021-12-26T21:38:18.631782Z",
     "iopub.status.busy": "2021-12-26T21:38:18.631007Z",
     "iopub.status.idle": "2021-12-26T21:38:18.634394Z",
     "shell.execute_reply": "2021-12-26T21:38:18.635182Z",
     "shell.execute_reply.started": "2021-12-26T20:05:40.956970Z"
    },
    "papermill": {
     "duration": 0.043036,
     "end_time": "2021-12-26T21:38:18.635412",
     "exception": false,
     "start_time": "2021-12-26T21:38:18.592376",
     "status": "completed"
    },
    "tags": []
   },
   "outputs": [
    {
     "name": "stdout",
     "output_type": "stream",
     "text": [
      "against community and you don't know what devils are in commmunity jimbo wales, mimick wikinfo, and purge devils from here. muzemike damned for being enemy of god: http://ww . wikinfo.org / index.php / category:primordiality i was banned for this: http://ww . wikinfo.org / index.php / category:primordiality and i am now bri for this: http://ww . wikinfo.org / index.php / category:primordiality and this: http://ww . wikinfo.org / index.php / category:primordiality came from god. so be damned, muzemike, daemon in human skin.\n",
      "that would be a good idea, this way i could check to see if anon is placing more cw material into the article. but i would have to insist that all current info be erased due to all the cw violations. 16:44, jan 30, 2005 (utc)\n"
     ]
    }
   ],
   "source": [
    "def see_results(id):\n",
    "    print(df_orig['text'][id])\n",
    "    print(df1['text'][int(idx1[id])])\n",
    "\n",
    "see_results(136)"
   ]
  },
  {
   "cell_type": "code",
   "execution_count": 11,
   "id": "ce86714b",
   "metadata": {
    "execution": {
     "iopub.execute_input": "2021-12-26T21:38:18.710796Z",
     "iopub.status.busy": "2021-12-26T21:38:18.709887Z",
     "iopub.status.idle": "2021-12-26T21:39:17.590395Z",
     "shell.execute_reply": "2021-12-26T21:39:17.589722Z",
     "shell.execute_reply.started": "2021-12-26T20:05:40.966260Z"
    },
    "papermill": {
     "duration": 58.921288,
     "end_time": "2021-12-26T21:39:17.590558",
     "exception": false,
     "start_time": "2021-12-26T21:38:18.669270",
     "status": "completed"
    },
    "tags": []
   },
   "outputs": [
    {
     "name": "stderr",
     "output_type": "stream",
     "text": [
      "/opt/conda/lib/python3.7/site-packages/ipykernel_launcher.py:6: FutureWarning: The default value of regex will change from True to False in a future version.\n",
      "  \n",
      "/opt/conda/lib/python3.7/site-packages/ipykernel_launcher.py:8: FutureWarning: The default value of regex will change from True to False in a future version.\n",
      "  \n",
      "/opt/conda/lib/python3.7/site-packages/ipykernel_launcher.py:10: FutureWarning: The default value of regex will change from True to False in a future version.\n",
      "  # Remove the CWD from sys.path while we load stuff.\n",
      "/opt/conda/lib/python3.7/site-packages/ipykernel_launcher.py:12: FutureWarning: The default value of regex will change from True to False in a future version.\n",
      "  if sys.path[0] == '':\n",
      "/opt/conda/lib/python3.7/site-packages/ipykernel_launcher.py:13: FutureWarning: The default value of regex will change from True to False in a future version.\n",
      "  del sys.path[0]\n",
      "/opt/conda/lib/python3.7/site-packages/ipykernel_launcher.py:14: FutureWarning: The default value of regex will change from True to False in a future version.\n",
      "  \n"
     ]
    }
   ],
   "source": [
    "df2 = pd.read_csv(\"../input/jigsaw-unintended-bias-in-toxicity-classification/train.csv\")\n",
    "df2['y'] = (df2[\"target\"] >= 0.5 ).astype(int)\n",
    "\n",
    "#Keep only toxic comments\n",
    "df2 = df2[df2['y'] == 1]\n",
    "\n",
    "df2 = df2[['comment_text', 'y']].rename(columns={'comment_text': 'text'})\n",
    "df2 = clean(df2, \"text\")\n",
    "# Drop comun comments from validation data\n",
    "df2 = df2[ ~df2['text'].isin(df_orig['text']) ].reset_index(drop=True)\n",
    "#df2.sample(20)"
   ]
  },
  {
   "cell_type": "code",
   "execution_count": 12,
   "id": "7f5d890e",
   "metadata": {
    "execution": {
     "iopub.execute_input": "2021-12-26T21:39:17.672329Z",
     "iopub.status.busy": "2021-12-26T21:39:17.666980Z",
     "iopub.status.idle": "2021-12-26T21:54:38.039482Z",
     "shell.execute_reply": "2021-12-26T21:54:38.040085Z",
     "shell.execute_reply.started": "2021-12-26T20:06:38.432453Z"
    },
    "papermill": {
     "duration": 920.414313,
     "end_time": "2021-12-26T21:54:38.040319",
     "exception": false,
     "start_time": "2021-12-26T21:39:17.626006",
     "status": "completed"
    },
    "tags": []
   },
   "outputs": [],
   "source": [
    "X_orig, X_df2, idx2, cos_sim2 = TF_ID_cosine_distance(df_orig['text'],df2['text'])"
   ]
  },
  {
   "cell_type": "code",
   "execution_count": 13,
   "id": "3a9f8dce",
   "metadata": {
    "execution": {
     "iopub.execute_input": "2021-12-26T21:54:38.119004Z",
     "iopub.status.busy": "2021-12-26T21:54:38.115571Z",
     "iopub.status.idle": "2021-12-26T21:54:38.199530Z",
     "shell.execute_reply": "2021-12-26T21:54:38.198568Z",
     "shell.execute_reply.started": "2021-12-26T20:21:55.697836Z"
    },
    "papermill": {
     "duration": 0.123173,
     "end_time": "2021-12-26T21:54:38.199777",
     "exception": false,
     "start_time": "2021-12-26T21:54:38.076604",
     "status": "completed"
    },
    "tags": []
   },
   "outputs": [
    {
     "name": "stdout",
     "output_type": "stream",
     "text": [
      "4\n",
      "0.2502857771843841\n",
      "0.23361670353724456\n",
      "27716\n"
     ]
    }
   ],
   "source": [
    "print(len(np.argwhere(cos_sim2 ==1)))\n",
    "print(cos_sim2.mean())\n",
    "print(np.median(cos_sim2))\n",
    "print(len(np.unique(idx2, axis=0)))"
   ]
  },
  {
   "cell_type": "code",
   "execution_count": 14,
   "id": "4a8a787a",
   "metadata": {
    "execution": {
     "iopub.execute_input": "2021-12-26T21:54:38.277746Z",
     "iopub.status.busy": "2021-12-26T21:54:38.276930Z",
     "iopub.status.idle": "2021-12-26T21:54:38.280653Z",
     "shell.execute_reply": "2021-12-26T21:54:38.281358Z",
     "shell.execute_reply.started": "2021-12-26T20:21:55.782591Z"
    },
    "papermill": {
     "duration": 0.045378,
     "end_time": "2021-12-26T21:54:38.281588",
     "exception": false,
     "start_time": "2021-12-26T21:54:38.236210",
     "status": "completed"
    },
    "tags": []
   },
   "outputs": [
    {
     "name": "stdout",
     "output_type": "stream",
     "text": [
      "i'm jim,a retarded idiot .\n",
      "it's good to know the ira was muslim too. or the ltte from sri lanka. or the khalistani terrorists from punjab, who killed the most number of canadians. the flq from quebec was muslim too. that is why they wanted quebec libre with sharia law. at one time, western governments had the south african anc and nelson mandela listed as terrorists. i guess they were muslim too?\n"
     ]
    }
   ],
   "source": [
    "def see_results(id):\n",
    "    print(df_orig['text'][id])\n",
    "    print(df2['text'][int(idx2[id])])\n",
    "\n",
    "see_results(100)"
   ]
  },
  {
   "cell_type": "code",
   "execution_count": 15,
   "id": "5689307d",
   "metadata": {
    "execution": {
     "iopub.execute_input": "2021-12-26T21:54:38.359956Z",
     "iopub.status.busy": "2021-12-26T21:54:38.359248Z",
     "iopub.status.idle": "2021-12-26T21:54:42.956522Z",
     "shell.execute_reply": "2021-12-26T21:54:42.955956Z",
     "shell.execute_reply.started": "2021-12-26T20:21:55.790625Z"
    },
    "papermill": {
     "duration": 4.638988,
     "end_time": "2021-12-26T21:54:42.956735",
     "exception": false,
     "start_time": "2021-12-26T21:54:38.317747",
     "status": "completed"
    },
    "tags": []
   },
   "outputs": [
    {
     "name": "stderr",
     "output_type": "stream",
     "text": [
      "/opt/conda/lib/python3.7/site-packages/ipykernel_launcher.py:6: FutureWarning: The default value of regex will change from True to False in a future version.\n",
      "  \n",
      "/opt/conda/lib/python3.7/site-packages/ipykernel_launcher.py:8: FutureWarning: The default value of regex will change from True to False in a future version.\n",
      "  \n",
      "/opt/conda/lib/python3.7/site-packages/ipykernel_launcher.py:10: FutureWarning: The default value of regex will change from True to False in a future version.\n",
      "  # Remove the CWD from sys.path while we load stuff.\n",
      "/opt/conda/lib/python3.7/site-packages/ipykernel_launcher.py:12: FutureWarning: The default value of regex will change from True to False in a future version.\n",
      "  if sys.path[0] == '':\n",
      "/opt/conda/lib/python3.7/site-packages/ipykernel_launcher.py:13: FutureWarning: The default value of regex will change from True to False in a future version.\n",
      "  del sys.path[0]\n",
      "/opt/conda/lib/python3.7/site-packages/ipykernel_launcher.py:14: FutureWarning: The default value of regex will change from True to False in a future version.\n",
      "  \n"
     ]
    }
   ],
   "source": [
    "df3 = pd.read_csv(\"../input/toxic-tweets-dataset/FinalBalancedDataset.csv\")\n",
    "df3 = df3[['tweet', 'Toxicity']].rename(columns={'tweet': 'text', 'Toxicity' : 'y'})\n",
    "df3 = clean(df3, \"text\")\n",
    "# Drop comun comments from validation data\n",
    "df3 = df3[ ~df3['text'].isin(df_orig['text']) ].reset_index(drop=True)\n",
    "#df3.sample(20)"
   ]
  },
  {
   "cell_type": "code",
   "execution_count": 16,
   "id": "11a35dad",
   "metadata": {
    "execution": {
     "iopub.execute_input": "2021-12-26T21:54:43.047629Z",
     "iopub.status.busy": "2021-12-26T21:54:43.042417Z",
     "iopub.status.idle": "2021-12-26T21:57:16.809638Z",
     "shell.execute_reply": "2021-12-26T21:57:16.809019Z",
     "shell.execute_reply.started": "2021-12-26T20:22:00.437194Z"
    },
    "papermill": {
     "duration": 153.815302,
     "end_time": "2021-12-26T21:57:16.809859",
     "exception": false,
     "start_time": "2021-12-26T21:54:42.994557",
     "status": "completed"
    },
    "tags": []
   },
   "outputs": [],
   "source": [
    "X_orig, X_df3, idx3, cos_sim3 = TF_ID_cosine_distance(df_orig['text'],df3['text'])"
   ]
  },
  {
   "cell_type": "code",
   "execution_count": 17,
   "id": "6ca3f07e",
   "metadata": {
    "execution": {
     "iopub.execute_input": "2021-12-26T21:57:16.892912Z",
     "iopub.status.busy": "2021-12-26T21:57:16.889721Z",
     "iopub.status.idle": "2021-12-26T21:57:16.970075Z",
     "shell.execute_reply": "2021-12-26T21:57:16.969370Z",
     "shell.execute_reply.started": "2021-12-26T20:24:33.647709Z"
    },
    "papermill": {
     "duration": 0.121744,
     "end_time": "2021-12-26T21:57:16.970235",
     "exception": false,
     "start_time": "2021-12-26T21:57:16.848491",
     "status": "completed"
    },
    "tags": []
   },
   "outputs": [
    {
     "name": "stdout",
     "output_type": "stream",
     "text": [
      "1\n",
      "0.1918983196003912\n",
      "0.1779149248451155\n",
      "22605\n"
     ]
    }
   ],
   "source": [
    "print(len(np.argwhere(cos_sim3 ==1)))\n",
    "print(cos_sim3.mean())\n",
    "print(np.median(cos_sim3))\n",
    "print(len(np.unique(idx3, axis=0)))"
   ]
  },
  {
   "cell_type": "code",
   "execution_count": 18,
   "id": "3e144275",
   "metadata": {
    "execution": {
     "iopub.execute_input": "2021-12-26T21:57:17.052463Z",
     "iopub.status.busy": "2021-12-26T21:57:17.051730Z",
     "iopub.status.idle": "2021-12-26T21:57:18.741986Z",
     "shell.execute_reply": "2021-12-26T21:57:18.741326Z",
     "shell.execute_reply.started": "2021-12-26T20:24:33.730422Z"
    },
    "papermill": {
     "duration": 1.73408,
     "end_time": "2021-12-26T21:57:18.742140",
     "exception": false,
     "start_time": "2021-12-26T21:57:17.008060",
     "status": "completed"
    },
    "tags": []
   },
   "outputs": [
    {
     "name": "stderr",
     "output_type": "stream",
     "text": [
      "/opt/conda/lib/python3.7/site-packages/ipykernel_launcher.py:6: FutureWarning: The default value of regex will change from True to False in a future version.\n",
      "  \n",
      "/opt/conda/lib/python3.7/site-packages/ipykernel_launcher.py:8: FutureWarning: The default value of regex will change from True to False in a future version.\n",
      "  \n",
      "/opt/conda/lib/python3.7/site-packages/ipykernel_launcher.py:10: FutureWarning: The default value of regex will change from True to False in a future version.\n",
      "  # Remove the CWD from sys.path while we load stuff.\n",
      "/opt/conda/lib/python3.7/site-packages/ipykernel_launcher.py:12: FutureWarning: The default value of regex will change from True to False in a future version.\n",
      "  if sys.path[0] == '':\n",
      "/opt/conda/lib/python3.7/site-packages/ipykernel_launcher.py:13: FutureWarning: The default value of regex will change from True to False in a future version.\n",
      "  del sys.path[0]\n",
      "/opt/conda/lib/python3.7/site-packages/ipykernel_launcher.py:14: FutureWarning: The default value of regex will change from True to False in a future version.\n",
      "  \n"
     ]
    }
   ],
   "source": [
    "df4 = pd.read_csv(\"../input/wikipedia-toxicity/train.csv\")\n",
    "df4 = df4[['comment_text', 'toxic']].rename(columns={'comment_text': 'text', 'toxic' : 'y'})\n",
    "df4 = clean(df4, \"text\")\n",
    "# Drop comun comments from validation data\n",
    "df4 = df4[ ~df4['text'].isin(df_orig['text']) ].reset_index(drop=True)\n",
    "#df4.sample(20)"
   ]
  },
  {
   "cell_type": "code",
   "execution_count": 19,
   "id": "866e48c1",
   "metadata": {
    "execution": {
     "iopub.execute_input": "2021-12-26T21:57:18.843997Z",
     "iopub.status.busy": "2021-12-26T21:57:18.842988Z",
     "iopub.status.idle": "2021-12-26T21:57:27.154785Z",
     "shell.execute_reply": "2021-12-26T21:57:27.155401Z",
     "shell.execute_reply.started": "2021-12-26T20:24:35.366925Z"
    },
    "papermill": {
     "duration": 8.374101,
     "end_time": "2021-12-26T21:57:27.155606",
     "exception": false,
     "start_time": "2021-12-26T21:57:18.781505",
     "status": "completed"
    },
    "tags": []
   },
   "outputs": [],
   "source": [
    "X_orig, X_df4, idx4, cos_sim4 = TF_ID_cosine_distance(df_orig['text'],df4['text'])"
   ]
  },
  {
   "cell_type": "code",
   "execution_count": 20,
   "id": "45c9f506",
   "metadata": {
    "execution": {
     "iopub.execute_input": "2021-12-26T21:57:27.237642Z",
     "iopub.status.busy": "2021-12-26T21:57:27.236911Z",
     "iopub.status.idle": "2021-12-26T21:57:27.245261Z",
     "shell.execute_reply": "2021-12-26T21:57:27.245789Z",
     "shell.execute_reply.started": "2021-12-26T20:24:43.724113Z"
    },
    "papermill": {
     "duration": 0.050853,
     "end_time": "2021-12-26T21:57:27.245982",
     "exception": false,
     "start_time": "2021-12-26T21:57:27.195129",
     "status": "completed"
    },
    "tags": []
   },
   "outputs": [
    {
     "data": {
      "text/plain": [
       "(4810, 2)"
      ]
     },
     "execution_count": 20,
     "metadata": {},
     "output_type": "execute_result"
    }
   ],
   "source": [
    "df4.shape"
   ]
  },
  {
   "cell_type": "code",
   "execution_count": 21,
   "id": "55f8eceb",
   "metadata": {
    "execution": {
     "iopub.execute_input": "2021-12-26T21:57:27.329695Z",
     "iopub.status.busy": "2021-12-26T21:57:27.329038Z",
     "iopub.status.idle": "2021-12-26T21:57:27.348196Z",
     "shell.execute_reply": "2021-12-26T21:57:27.348850Z",
     "shell.execute_reply.started": "2021-12-26T20:24:43.732920Z"
    },
    "papermill": {
     "duration": 0.062241,
     "end_time": "2021-12-26T21:57:27.349037",
     "exception": false,
     "start_time": "2021-12-26T21:57:27.286796",
     "status": "completed"
    },
    "tags": []
   },
   "outputs": [
    {
     "name": "stdout",
     "output_type": "stream",
     "text": [
      "19\n",
      "0.15529737035574084\n",
      "0.15012746182855247\n",
      "2382\n"
     ]
    }
   ],
   "source": [
    "print(len(np.argwhere(cos_sim4 ==1)))\n",
    "print(cos_sim4.mean())\n",
    "print(np.median(cos_sim4))\n",
    "print(len(np.unique(idx4, axis=0)))"
   ]
  },
  {
   "cell_type": "code",
   "execution_count": 22,
   "id": "114827ea",
   "metadata": {
    "execution": {
     "iopub.execute_input": "2021-12-26T21:57:27.434474Z",
     "iopub.status.busy": "2021-12-26T21:57:27.433857Z",
     "iopub.status.idle": "2021-12-26T21:58:26.755506Z",
     "shell.execute_reply": "2021-12-26T21:58:26.754865Z",
     "shell.execute_reply.started": "2021-12-26T20:24:43.755781Z"
    },
    "papermill": {
     "duration": 59.367211,
     "end_time": "2021-12-26T21:58:26.755700",
     "exception": false,
     "start_time": "2021-12-26T21:57:27.388489",
     "status": "completed"
    },
    "tags": []
   },
   "outputs": [
    {
     "name": "stderr",
     "output_type": "stream",
     "text": [
      "/opt/conda/lib/python3.7/site-packages/ipykernel_launcher.py:6: FutureWarning: The default value of regex will change from True to False in a future version.\n",
      "  \n",
      "/opt/conda/lib/python3.7/site-packages/ipykernel_launcher.py:8: FutureWarning: The default value of regex will change from True to False in a future version.\n",
      "  \n",
      "/opt/conda/lib/python3.7/site-packages/ipykernel_launcher.py:10: FutureWarning: The default value of regex will change from True to False in a future version.\n",
      "  # Remove the CWD from sys.path while we load stuff.\n",
      "/opt/conda/lib/python3.7/site-packages/ipykernel_launcher.py:12: FutureWarning: The default value of regex will change from True to False in a future version.\n",
      "  if sys.path[0] == '':\n",
      "/opt/conda/lib/python3.7/site-packages/ipykernel_launcher.py:13: FutureWarning: The default value of regex will change from True to False in a future version.\n",
      "  del sys.path[0]\n",
      "/opt/conda/lib/python3.7/site-packages/ipykernel_launcher.py:14: FutureWarning: The default value of regex will change from True to False in a future version.\n",
      "  \n"
     ]
    }
   ],
   "source": [
    "df5 = pd.read_csv(\"../input/malignant-comment-classification/train.csv\")\n",
    "df5 = df5[['comment_text', 'malignant']].rename(columns={'comment_text': 'text', 'malignant' : 'y'})\n",
    "df5 = clean(df5, \"text\")\n",
    "# Drop comun comments from validation data\n",
    "df5 = df5[ ~df5['text'].isin(df_orig['text']) ].reset_index(drop=True)\n",
    "#df5.sample(20)"
   ]
  },
  {
   "cell_type": "code",
   "execution_count": 23,
   "id": "fd9042f1",
   "metadata": {
    "execution": {
     "iopub.execute_input": "2021-12-26T21:58:26.855298Z",
     "iopub.status.busy": "2021-12-26T21:58:26.844637Z",
     "iopub.status.idle": "2021-12-26T22:14:27.477873Z",
     "shell.execute_reply": "2021-12-26T22:14:27.477160Z",
     "shell.execute_reply.started": "2021-12-26T20:25:42.914309Z"
    },
    "papermill": {
     "duration": 960.679938,
     "end_time": "2021-12-26T22:14:27.478078",
     "exception": false,
     "start_time": "2021-12-26T21:58:26.798140",
     "status": "completed"
    },
    "tags": []
   },
   "outputs": [],
   "source": [
    "X_orig, X_df5, idx5, cos_sim5 = TF_ID_cosine_distance(df_orig['text'],df5['text'])"
   ]
  },
  {
   "cell_type": "code",
   "execution_count": 24,
   "id": "9a233cf2",
   "metadata": {
    "execution": {
     "iopub.execute_input": "2021-12-26T22:14:27.568923Z",
     "iopub.status.busy": "2021-12-26T22:14:27.567794Z",
     "iopub.status.idle": "2021-12-26T22:14:27.646872Z",
     "shell.execute_reply": "2021-12-26T22:14:27.646067Z",
     "shell.execute_reply.started": "2021-12-26T20:41:45.879427Z"
    },
    "papermill": {
     "duration": 0.126765,
     "end_time": "2021-12-26T22:14:27.647080",
     "exception": false,
     "start_time": "2021-12-26T22:14:27.520315",
     "status": "completed"
    },
    "tags": []
   },
   "outputs": [
    {
     "name": "stdout",
     "output_type": "stream",
     "text": [
      "42\n",
      "0.3214220559941172\n",
      "0.28954738314559375\n",
      "27737\n"
     ]
    }
   ],
   "source": [
    "print(len(np.argwhere(cos_sim5 ==1)))\n",
    "print(cos_sim5.mean())\n",
    "print(np.median(cos_sim5))\n",
    "print(len(np.unique(idx5, axis=0)))"
   ]
  },
  {
   "cell_type": "code",
   "execution_count": 25,
   "id": "0ddfcc73",
   "metadata": {
    "execution": {
     "iopub.execute_input": "2021-12-26T22:14:27.740285Z",
     "iopub.status.busy": "2021-12-26T22:14:27.739430Z",
     "iopub.status.idle": "2021-12-26T22:15:55.628732Z",
     "shell.execute_reply": "2021-12-26T22:15:55.629337Z",
     "shell.execute_reply.started": "2021-12-26T20:41:45.958926Z"
    },
    "papermill": {
     "duration": 87.940044,
     "end_time": "2021-12-26T22:15:55.629558",
     "exception": false,
     "start_time": "2021-12-26T22:14:27.689514",
     "status": "completed"
    },
    "tags": []
   },
   "outputs": [
    {
     "name": "stderr",
     "output_type": "stream",
     "text": [
      "/opt/conda/lib/python3.7/site-packages/IPython/core/interactiveshell.py:3441: DtypeWarning: Columns (1) have mixed types.Specify dtype option on import or set low_memory=False.\n",
      "  exec(code_obj, self.user_global_ns, self.user_ns)\n",
      "/opt/conda/lib/python3.7/site-packages/ipykernel_launcher.py:6: FutureWarning: The default value of regex will change from True to False in a future version.\n",
      "  \n",
      "/opt/conda/lib/python3.7/site-packages/ipykernel_launcher.py:8: FutureWarning: The default value of regex will change from True to False in a future version.\n",
      "  \n",
      "/opt/conda/lib/python3.7/site-packages/ipykernel_launcher.py:10: FutureWarning: The default value of regex will change from True to False in a future version.\n",
      "  # Remove the CWD from sys.path while we load stuff.\n",
      "/opt/conda/lib/python3.7/site-packages/ipykernel_launcher.py:12: FutureWarning: The default value of regex will change from True to False in a future version.\n",
      "  if sys.path[0] == '':\n",
      "/opt/conda/lib/python3.7/site-packages/ipykernel_launcher.py:13: FutureWarning: The default value of regex will change from True to False in a future version.\n",
      "  del sys.path[0]\n",
      "/opt/conda/lib/python3.7/site-packages/ipykernel_launcher.py:14: FutureWarning: The default value of regex will change from True to False in a future version.\n",
      "  \n"
     ]
    }
   ],
   "source": [
    "df6 = pd.read_csv(\"../input/jigsaw-training-dataset/jigsaw_training_data.csv\")\n",
    "df6['y'] = np.where(df6['target']=='toxic',1,0)\n",
    "df6 = df6[['comment_text', 'y']].rename(columns={'comment_text': 'text'})\n",
    "\n",
    "#Subsample\n",
    "df6_aux1 = df6[df6['y'] ==1]\n",
    "df6_aux2 = df6[df6['y'] ==0].sample(150000, random_state=62)\n",
    "df6 = pd.concat([df6_aux1, df6_aux2])\n",
    "\n",
    "df6 = clean(df6, \"text\")\n",
    "# Drop comun comments from validation data\n",
    "df6 = df6[ ~df6['text'].isin(df_orig['text']) ].reset_index(drop=True)\n",
    "#df6.sample(20)"
   ]
  },
  {
   "cell_type": "code",
   "execution_count": 26,
   "id": "ad5ebbfe",
   "metadata": {
    "execution": {
     "iopub.execute_input": "2021-12-26T22:15:55.724496Z",
     "iopub.status.busy": "2021-12-26T22:15:55.723326Z",
     "iopub.status.idle": "2021-12-26T22:50:13.512627Z",
     "shell.execute_reply": "2021-12-26T22:50:13.511741Z",
     "shell.execute_reply.started": "2021-12-26T20:43:13.573090Z"
    },
    "papermill": {
     "duration": 2057.839062,
     "end_time": "2021-12-26T22:50:13.512917",
     "exception": false,
     "start_time": "2021-12-26T22:15:55.673855",
     "status": "completed"
    },
    "tags": []
   },
   "outputs": [],
   "source": [
    "X_orig, X_df6, idx6, cos_sim6 = TF_ID_cosine_distance(df_orig['text'],df6['text'])"
   ]
  },
  {
   "cell_type": "code",
   "execution_count": 27,
   "id": "206f680b",
   "metadata": {
    "execution": {
     "iopub.execute_input": "2021-12-26T22:50:13.612315Z",
     "iopub.status.busy": "2021-12-26T22:50:13.611280Z",
     "iopub.status.idle": "2021-12-26T22:50:13.687341Z",
     "shell.execute_reply": "2021-12-26T22:50:13.687982Z",
     "shell.execute_reply.started": "2021-12-26T21:17:11.265856Z"
    },
    "papermill": {
     "duration": 0.129399,
     "end_time": "2021-12-26T22:50:13.688179",
     "exception": false,
     "start_time": "2021-12-26T22:50:13.558780",
     "status": "completed"
    },
    "tags": []
   },
   "outputs": [
    {
     "name": "stdout",
     "output_type": "stream",
     "text": [
      "38\n",
      "0.32609465446912295\n",
      "0.29670190807167124\n",
      "28506\n"
     ]
    }
   ],
   "source": [
    "print(len(np.argwhere(cos_sim6 ==1)))\n",
    "print(cos_sim6.mean())\n",
    "print(np.median(cos_sim6))\n",
    "print(len(np.unique(idx6, axis=0)))"
   ]
  },
  {
   "cell_type": "code",
   "execution_count": 28,
   "id": "c01f0cea",
   "metadata": {
    "execution": {
     "iopub.execute_input": "2021-12-26T22:50:13.786809Z",
     "iopub.status.busy": "2021-12-26T22:50:13.785713Z",
     "iopub.status.idle": "2021-12-26T22:50:13.788177Z",
     "shell.execute_reply": "2021-12-26T22:50:13.788624Z",
     "shell.execute_reply.started": "2021-12-26T21:17:11.349619Z"
    },
    "papermill": {
     "duration": 0.054222,
     "end_time": "2021-12-26T22:50:13.788846",
     "exception": false,
     "start_time": "2021-12-26T22:50:13.734624",
     "status": "completed"
    },
    "tags": []
   },
   "outputs": [],
   "source": [
    "def append_to_final_data (final_data, df, idx):\n",
    "    df = df.loc[np.unique(idx, axis=0).flatten().tolist(),:].reset_index(drop=True)\n",
    "    final_data = pd.concat([final_data, df])\n",
    "    return final_data.reset_index(drop=True)"
   ]
  },
  {
   "cell_type": "code",
   "execution_count": 29,
   "id": "dea01d81",
   "metadata": {
    "execution": {
     "iopub.execute_input": "2021-12-26T22:50:13.957838Z",
     "iopub.status.busy": "2021-12-26T22:50:13.957072Z",
     "iopub.status.idle": "2021-12-26T22:50:14.408345Z",
     "shell.execute_reply": "2021-12-26T22:50:14.408891Z",
     "shell.execute_reply.started": "2021-12-26T21:18:50.287698Z"
    },
    "papermill": {
     "duration": 0.575621,
     "end_time": "2021-12-26T22:50:14.409121",
     "exception": false,
     "start_time": "2021-12-26T22:50:13.833500",
     "status": "completed"
    },
    "tags": []
   },
   "outputs": [
    {
     "name": "stdout",
     "output_type": "stream",
     "text": [
      "1\n",
      "2\n",
      "3\n",
      "4\n",
      "5\n",
      "6\n"
     ]
    }
   ],
   "source": [
    "final_data=pd.DataFrame()\n",
    "df_sets = [df1,df2,df3,df4,df5,df6]\n",
    "idx_sets = [idx1,idx2,idx3,idx4,idx5,idx6]\n",
    "for i in range(0,6):\n",
    "    print(i + 1)\n",
    "    final_data = append_to_final_data(final_data=final_data, df=df_sets[i], idx=idx_sets[i])"
   ]
  },
  {
   "cell_type": "code",
   "execution_count": 30,
   "id": "6c229d27",
   "metadata": {
    "execution": {
     "iopub.execute_input": "2021-12-26T22:50:14.507566Z",
     "iopub.status.busy": "2021-12-26T22:50:14.506899Z",
     "iopub.status.idle": "2021-12-26T22:50:16.519407Z",
     "shell.execute_reply": "2021-12-26T22:50:16.520030Z",
     "shell.execute_reply.started": "2021-12-26T21:19:00.261703Z"
    },
    "papermill": {
     "duration": 2.065669,
     "end_time": "2021-12-26T22:50:16.520236",
     "exception": false,
     "start_time": "2021-12-26T22:50:14.454567",
     "status": "completed"
    },
    "tags": []
   },
   "outputs": [],
   "source": [
    "final_data.to_csv(\"./final_data.csv\",index=False)"
   ]
  },
  {
   "cell_type": "code",
   "execution_count": 31,
   "id": "d2d8a507",
   "metadata": {
    "execution": {
     "iopub.execute_input": "2021-12-26T22:50:16.614882Z",
     "iopub.status.busy": "2021-12-26T22:50:16.614192Z",
     "iopub.status.idle": "2021-12-26T22:50:16.618713Z",
     "shell.execute_reply": "2021-12-26T22:50:16.619340Z",
     "shell.execute_reply.started": "2021-12-26T21:19:13.306324Z"
    },
    "papermill": {
     "duration": 0.053287,
     "end_time": "2021-12-26T22:50:16.619527",
     "exception": false,
     "start_time": "2021-12-26T22:50:16.566240",
     "status": "completed"
    },
    "tags": []
   },
   "outputs": [
    {
     "data": {
      "text/plain": [
       "(136648, 2)"
      ]
     },
     "execution_count": 31,
     "metadata": {},
     "output_type": "execute_result"
    }
   ],
   "source": [
    "final_data.shape"
   ]
  },
  {
   "cell_type": "code",
   "execution_count": 32,
   "id": "489f4590",
   "metadata": {
    "execution": {
     "iopub.execute_input": "2021-12-26T22:50:16.716761Z",
     "iopub.status.busy": "2021-12-26T22:50:16.716079Z",
     "iopub.status.idle": "2021-12-26T22:50:16.737710Z",
     "shell.execute_reply": "2021-12-26T22:50:16.738367Z",
     "shell.execute_reply.started": "2021-12-26T21:19:21.310521Z"
    },
    "papermill": {
     "duration": 0.071653,
     "end_time": "2021-12-26T22:50:16.738566",
     "exception": false,
     "start_time": "2021-12-26T22:50:16.666913",
     "status": "completed"
    },
    "tags": []
   },
   "outputs": [
    {
     "data": {
      "text/html": [
       "<div>\n",
       "<style scoped>\n",
       "    .dataframe tbody tr th:only-of-type {\n",
       "        vertical-align: middle;\n",
       "    }\n",
       "\n",
       "    .dataframe tbody tr th {\n",
       "        vertical-align: top;\n",
       "    }\n",
       "\n",
       "    .dataframe thead th {\n",
       "        text-align: right;\n",
       "    }\n",
       "</style>\n",
       "<table border=\"1\" class=\"dataframe\">\n",
       "  <thead>\n",
       "    <tr style=\"text-align: right;\">\n",
       "      <th></th>\n",
       "      <th>text</th>\n",
       "      <th>y</th>\n",
       "    </tr>\n",
       "  </thead>\n",
       "  <tbody>\n",
       "    <tr>\n",
       "      <th>106454</th>\n",
       "      <td>great. 70 supports and only 1 oppose or someth...</td>\n",
       "      <td>0</td>\n",
       "    </tr>\n",
       "    <tr>\n",
       "      <th>57449</th>\n",
       "      <td>my #hea goes out to the #innocent &amp;amp; #famil...</td>\n",
       "      <td>0</td>\n",
       "    </tr>\n",
       "    <tr>\n",
       "      <th>20742</th>\n",
       "      <td>\" image copyright problem with image:malhereux...</td>\n",
       "      <td>0</td>\n",
       "    </tr>\n",
       "    <tr>\n",
       "      <th>101826</th>\n",
       "      <td>both entries are on the same subject, they sho...</td>\n",
       "      <td>0</td>\n",
       "    </tr>\n",
       "    <tr>\n",
       "      <th>114020</th>\n",
       "      <td>your statement is narcissistic. this kids not ...</td>\n",
       "      <td>1</td>\n",
       "    </tr>\n",
       "    <tr>\n",
       "      <th>61702</th>\n",
       "      <td>it's almost friday! krissyskornerwithpremier@user</td>\n",
       "      <td>0</td>\n",
       "    </tr>\n",
       "    <tr>\n",
       "      <th>45234</th>\n",
       "      <td>\"terry thompson did not intend to cause hernan...</td>\n",
       "      <td>1</td>\n",
       "    </tr>\n",
       "    <tr>\n",
       "      <th>40571</th>\n",
       "      <td>you are right . because women aren't strong en...</td>\n",
       "      <td>1</td>\n",
       "    </tr>\n",
       "    <tr>\n",
       "      <th>121100</th>\n",
       "      <td>when the biggest turd on the liberal swamp say...</td>\n",
       "      <td>1</td>\n",
       "    </tr>\n",
       "    <tr>\n",
       "      <th>44065</th>\n",
       "      <td>i always thought wasilla was inhabited by lose...</td>\n",
       "      <td>1</td>\n",
       "    </tr>\n",
       "    <tr>\n",
       "      <th>51851</th>\n",
       "      <td>the flag is a symbol of an oppressive regime w...</td>\n",
       "      <td>1</td>\n",
       "    </tr>\n",
       "    <tr>\n",
       "      <th>55155</th>\n",
       "      <td>and what about your idiotic pro-gun agenda? it...</td>\n",
       "      <td>1</td>\n",
       "    </tr>\n",
       "    <tr>\n",
       "      <th>99451</th>\n",
       "      <td>proposal: going back to the bare bones again u...</td>\n",
       "      <td>0</td>\n",
       "    </tr>\n",
       "    <tr>\n",
       "      <th>101148</th>\n",
       "      <td>hi. i don't know who col. hauler is, but its n...</td>\n",
       "      <td>0</td>\n",
       "    </tr>\n",
       "    <tr>\n",
       "      <th>125548</th>\n",
       "      <td>ok, ok, so the government posts a deficit... b...</td>\n",
       "      <td>0</td>\n",
       "    </tr>\n",
       "    <tr>\n",
       "      <th>31127</th>\n",
       "      <td>what an idiot. blame a tourist, when the poor ...</td>\n",
       "      <td>1</td>\n",
       "    </tr>\n",
       "    <tr>\n",
       "      <th>134064</th>\n",
       "      <td>if cape town runs out of municipal water it wi...</td>\n",
       "      <td>0</td>\n",
       "    </tr>\n",
       "    <tr>\n",
       "      <th>11086</th>\n",
       "      <td>\" what you cannot do is pretend that the un it...</td>\n",
       "      <td>0</td>\n",
       "    </tr>\n",
       "    <tr>\n",
       "      <th>16951</th>\n",
       "      <td>hello, nawlins place the following in the larg...</td>\n",
       "      <td>0</td>\n",
       "    </tr>\n",
       "    <tr>\n",
       "      <th>38324</th>\n",
       "      <td>the banks must be taken to task over their slo...</td>\n",
       "      <td>1</td>\n",
       "    </tr>\n",
       "  </tbody>\n",
       "</table>\n",
       "</div>"
      ],
      "text/plain": [
       "                                                     text  y\n",
       "106454  great. 70 supports and only 1 oppose or someth...  0\n",
       "57449   my #hea goes out to the #innocent &amp; #famil...  0\n",
       "20742   \" image copyright problem with image:malhereux...  0\n",
       "101826  both entries are on the same subject, they sho...  0\n",
       "114020  your statement is narcissistic. this kids not ...  1\n",
       "61702   it's almost friday! krissyskornerwithpremier@user  0\n",
       "45234   \"terry thompson did not intend to cause hernan...  1\n",
       "40571   you are right . because women aren't strong en...  1\n",
       "121100  when the biggest turd on the liberal swamp say...  1\n",
       "44065   i always thought wasilla was inhabited by lose...  1\n",
       "51851   the flag is a symbol of an oppressive regime w...  1\n",
       "55155   and what about your idiotic pro-gun agenda? it...  1\n",
       "99451   proposal: going back to the bare bones again u...  0\n",
       "101148  hi. i don't know who col. hauler is, but its n...  0\n",
       "125548  ok, ok, so the government posts a deficit... b...  0\n",
       "31127   what an idiot. blame a tourist, when the poor ...  1\n",
       "134064  if cape town runs out of municipal water it wi...  0\n",
       "11086   \" what you cannot do is pretend that the un it...  0\n",
       "16951   hello, nawlins place the following in the larg...  0\n",
       "38324   the banks must be taken to task over their slo...  1"
      ]
     },
     "execution_count": 32,
     "metadata": {},
     "output_type": "execute_result"
    }
   ],
   "source": [
    "final_data.sample(20)"
   ]
  }
 ],
 "metadata": {
  "kernelspec": {
   "display_name": "Python 3",
   "language": "python",
   "name": "python3"
  },
  "language_info": {
   "codemirror_mode": {
    "name": "ipython",
    "version": 3
   },
   "file_extension": ".py",
   "mimetype": "text/x-python",
   "name": "python",
   "nbconvert_exporter": "python",
   "pygments_lexer": "ipython3",
   "version": "3.7.10"
  },
  "papermill": {
   "default_parameters": {},
   "duration": 5382.219235,
   "end_time": "2021-12-26T22:50:18.112475",
   "environment_variables": {},
   "exception": null,
   "input_path": "__notebook__.ipynb",
   "output_path": "__notebook__.ipynb",
   "parameters": {},
   "start_time": "2021-12-26T21:20:35.893240",
   "version": "2.3.3"
  }
 },
 "nbformat": 4,
 "nbformat_minor": 5
}
