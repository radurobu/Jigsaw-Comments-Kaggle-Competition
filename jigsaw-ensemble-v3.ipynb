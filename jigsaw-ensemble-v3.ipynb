{
 "cells": [
  {
   "cell_type": "markdown",
   "id": "61e3889f",
   "metadata": {
    "papermill": {
     "duration": 0.073005,
     "end_time": "2022-01-11T10:44:20.767184",
     "exception": false,
     "start_time": "2022-01-11T10:44:20.694179",
     "status": "completed"
    },
    "tags": []
   },
   "source": [
    "# Model used:\n",
    "* TFIDF+RIDGE v3 \n",
    "* TFIDF+RIDGE v4\n",
    "* Jigsaw - Simple Models v1\n",
    "*  Fork of Jigsaw - Simple Models cc8ddd (Roberta orig Data) or Fork of Jigsaw - Simple Models (TFID calib data)"
   ]
  },
  {
   "cell_type": "code",
   "execution_count": 1,
   "id": "54ff69bd",
   "metadata": {
    "_cell_guid": "b1076dfc-b9ad-4769-8c92-a6c4dae69d19",
    "_uuid": "8f2839f25d086af736a60e9eeb907d3b93b6e0e5",
    "execution": {
     "iopub.execute_input": "2022-01-11T10:44:20.907067Z",
     "iopub.status.busy": "2022-01-11T10:44:20.905909Z",
     "iopub.status.idle": "2022-01-11T10:44:22.835708Z",
     "shell.execute_reply": "2022-01-11T10:44:22.834484Z",
     "shell.execute_reply.started": "2022-01-10T17:04:58.369522Z"
    },
    "papermill": {
     "duration": 2.003069,
     "end_time": "2022-01-11T10:44:22.835887",
     "exception": false,
     "start_time": "2022-01-11T10:44:20.832818",
     "status": "completed"
    },
    "tags": []
   },
   "outputs": [
    {
     "name": "stdout",
     "output_type": "stream",
     "text": [
      "/kaggle/input/jigsaw-toxic-severity-rating/sample_submission.csv\n",
      "/kaggle/input/jigsaw-toxic-severity-rating/validation_data.csv\n",
      "/kaggle/input/jigsaw-toxic-severity-rating/comments_to_score.csv\n",
      "/kaggle/input/roberta-base/rust_model.ot\n",
      "/kaggle/input/roberta-base/config.json\n",
      "/kaggle/input/roberta-base/merges.txt\n",
      "/kaggle/input/roberta-base/README.md\n",
      "/kaggle/input/roberta-base/tokenizer.json\n",
      "/kaggle/input/roberta-base/vocab.json\n",
      "/kaggle/input/roberta-base/tf_model.h5\n",
      "/kaggle/input/roberta-base/dict.txt\n",
      "/kaggle/input/roberta-base/pytorch_model.bin\n",
      "/kaggle/input/roberta-base/flax_model.msgpack\n",
      "/kaggle/input/jigsaw-toxic-comment-classification-challenge/sample_submission.csv\n",
      "/kaggle/input/jigsaw-toxic-comment-classification-challenge/test_labels.csv\n",
      "/kaggle/input/jigsaw-toxic-comment-classification-challenge/train.csv\n",
      "/kaggle/input/jigsaw-toxic-comment-classification-challenge/test.csv\n"
     ]
    }
   ],
   "source": [
    "import numpy as np # linear algebra\n",
    "import pandas as pd # data processing, CSV file I/O (e.g. pd.read_csv)\n",
    "import progressbar\n",
    "import nltk\n",
    "import matplotlib.pyplot as plt\n",
    "import re\n",
    "\n",
    "from tqdm.auto import tqdm\n",
    "from bs4 import BeautifulSoup\n",
    "\n",
    "from sklearn.feature_extraction.text import CountVectorizer\n",
    "from sklearn import metrics\n",
    "\n",
    "from sklearn.feature_extraction.text import TfidfVectorizer\n",
    "from sklearn.linear_model import Ridge, LogisticRegression, RidgeCV, ElasticNet, SGDRegressor\n",
    "\n",
    "from scipy.sparse import hstack\n",
    "\n",
    "import warnings\n",
    "warnings.filterwarnings(\"ignore\")\n",
    "\n",
    "import os\n",
    "for dirname, _, filenames in os.walk('/kaggle/input'):\n",
    "    for filename in filenames:\n",
    "        print(os.path.join(dirname, filename))\n",
    "        \n",
    "from sklearn.naive_bayes import MultinomialNB\n",
    "from scipy import sparse\n",
    "import gc"
   ]
  },
  {
   "cell_type": "markdown",
   "id": "65c4cfc1",
   "metadata": {
    "papermill": {
     "duration": 0.037539,
     "end_time": "2022-01-11T10:44:22.912354",
     "exception": false,
     "start_time": "2022-01-11T10:44:22.874815",
     "status": "completed"
    },
    "tags": []
   },
   "source": [
    "# TFIDF+RIDGE v4"
   ]
  },
  {
   "cell_type": "code",
   "execution_count": 2,
   "id": "8dd89d90",
   "metadata": {
    "execution": {
     "iopub.execute_input": "2022-01-11T10:44:22.993484Z",
     "iopub.status.busy": "2022-01-11T10:44:22.992219Z",
     "iopub.status.idle": "2022-01-11T10:44:22.997938Z",
     "shell.execute_reply": "2022-01-11T10:44:22.997435Z",
     "shell.execute_reply.started": "2022-01-10T17:04:59.904321Z"
    },
    "papermill": {
     "duration": 0.046942,
     "end_time": "2022-01-11T10:44:22.998066",
     "exception": false,
     "start_time": "2022-01-11T10:44:22.951124",
     "status": "completed"
    },
    "tags": []
   },
   "outputs": [],
   "source": [
    "TRAIN_DATA_PATH = \"/kaggle/input/jigsaw-toxic-comment-classification-challenge/train.csv\"\n",
    "TEST_DATA_PATH = \"/kaggle/input/jigsaw-toxic-severity-rating/comments_to_score.csv\"\n",
    "VALID_DATA_PATH = \"../input/jigsaw-toxic-severity-rating/validation_data.csv\"\n",
    "SAMPLE_SUBMISSION = \"/kaggle/input/jigsaw-toxic-severity-rating/sample_submission.csv\""
   ]
  },
  {
   "cell_type": "code",
   "execution_count": 3,
   "id": "9aebe519",
   "metadata": {
    "execution": {
     "iopub.execute_input": "2022-01-11T10:44:23.077622Z",
     "iopub.status.busy": "2022-01-11T10:44:23.076864Z",
     "iopub.status.idle": "2022-01-11T10:44:25.509457Z",
     "shell.execute_reply": "2022-01-11T10:44:25.508791Z",
     "shell.execute_reply.started": "2022-01-10T19:07:35.782249Z"
    },
    "papermill": {
     "duration": 2.475154,
     "end_time": "2022-01-11T10:44:25.509619",
     "exception": false,
     "start_time": "2022-01-11T10:44:23.034465",
     "status": "completed"
    },
    "tags": []
   },
   "outputs": [],
   "source": [
    "df_train = pd.read_csv(TRAIN_DATA_PATH)\n",
    "df_test = pd.read_csv(TEST_DATA_PATH)\n",
    "df_test_caps = df_test.copy()\n",
    "df_validation_data = pd.read_csv(VALID_DATA_PATH)\n",
    "df_sample_submission = pd.read_csv(SAMPLE_SUBMISSION)\n",
    "df_validation_data_caps = df_validation_data.copy()"
   ]
  },
  {
   "cell_type": "code",
   "execution_count": 4,
   "id": "fcc2f506",
   "metadata": {
    "execution": {
     "iopub.execute_input": "2022-01-11T10:44:25.596308Z",
     "iopub.status.busy": "2022-01-11T10:44:25.595451Z",
     "iopub.status.idle": "2022-01-11T10:44:25.598384Z",
     "shell.execute_reply": "2022-01-11T10:44:25.598877Z",
     "shell.execute_reply.started": "2022-01-10T17:05:02.720111Z"
    },
    "papermill": {
     "duration": 0.050685,
     "end_time": "2022-01-11T10:44:25.599020",
     "exception": false,
     "start_time": "2022-01-11T10:44:25.548335",
     "status": "completed"
    },
    "tags": []
   },
   "outputs": [],
   "source": [
    "def text_cleaning(text):\n",
    "    '''\n",
    "    Cleans text into a basic form for NLP. Operations include the following:-\n",
    "    1. Remove special charecters like &, #, etc\n",
    "    2. Removes extra spaces\n",
    "    3. Removes embedded URL links\n",
    "    4. Removes HTML tags\n",
    "    5. Removes emojis\n",
    "    \n",
    "    text - Text piece to be cleaned.\n",
    "    '''\n",
    "    template = re.compile(r'https?://\\S+|www\\.\\S+')  # Removes website links\n",
    "    text = template.sub(r'', text)\n",
    "    \n",
    "    soup = BeautifulSoup(text, 'lxml')  # Removes HTML tags\n",
    "    only_text = soup.get_text()\n",
    "    text = only_text\n",
    "    \n",
    "    emoji_pattern = re.compile(\"[\"\n",
    "                               u\"\\U0001F600-\\U0001F64F\"  # emoticons\n",
    "                               u\"\\U0001F300-\\U0001F5FF\"  # symbols & pictographs\n",
    "                               u\"\\U0001F680-\\U0001F6FF\"  # transport & map symbols\n",
    "                               u\"\\U0001F1E0-\\U0001F1FF\"  # flags (iOS)\n",
    "                               u\"\\U00002702-\\U000027B0\"\n",
    "                               u\"\\U000024C2-\\U0001F251\"\n",
    "                               \"]+\", flags=re.UNICODE)\n",
    "    text = emoji_pattern.sub(r'', text)\n",
    "    \n",
    "    text = re.sub(r\"[^a-zA-Z\\d]\", \" \", text) # Remove special Charecters\n",
    "    text = re.sub(' +', ' ', text) # Remove Extra Spaces\n",
    "    text = text.strip().lower() # remove spaces at the beginning and at the end of string and make string lower\n",
    "    \n",
    "    # lemmatization\n",
    "    text = ' '.join([lemmatizer.lemmatize(word) for word in text.split(' ')])\n",
    "    # del stopwords\n",
    "    text = ' '.join([word for word in text.split(' ') if word not in stop])\n",
    "\n",
    "    return text"
   ]
  },
  {
   "cell_type": "code",
   "execution_count": 5,
   "id": "3ab02963",
   "metadata": {
    "execution": {
     "iopub.execute_input": "2022-01-11T10:44:25.718523Z",
     "iopub.status.busy": "2022-01-11T10:44:25.691429Z",
     "iopub.status.idle": "2022-01-11T10:44:25.730638Z",
     "shell.execute_reply": "2022-01-11T10:44:25.730034Z",
     "shell.execute_reply.started": "2022-01-10T17:05:02.734614Z"
    },
    "papermill": {
     "duration": 0.095254,
     "end_time": "2022-01-11T10:44:25.730766",
     "exception": false,
     "start_time": "2022-01-11T10:44:25.635512",
     "status": "completed"
    },
    "tags": []
   },
   "outputs": [],
   "source": [
    "def clean(data, col):\n",
    "    \n",
    "    data[col] = data[col].str.replace('https?://\\S+|www\\.\\S+', ' social medium ')      \n",
    "        \n",
    "    data[col] = data[col].str.lower()\n",
    "    data[col] = data[col].str.replace(\"4\", \"a\") \n",
    "    data[col] = data[col].str.replace(\"2\", \"l\")\n",
    "    data[col] = data[col].str.replace(\"5\", \"s\") \n",
    "    data[col] = data[col].str.replace(\"1\", \"i\") \n",
    "    data[col] = data[col].str.replace(\"!\", \"i\") \n",
    "    data[col] = data[col].str.replace(\"|\", \"i\") \n",
    "    data[col] = data[col].str.replace(\"0\", \"o\") \n",
    "    data[col] = data[col].str.replace(\"l3\", \"b\") \n",
    "    data[col] = data[col].str.replace(\"7\", \"t\") \n",
    "    data[col] = data[col].str.replace(\"7\", \"+\") \n",
    "    data[col] = data[col].str.replace(\"8\", \"ate\") \n",
    "    data[col] = data[col].str.replace(\"3\", \"e\") \n",
    "    data[col] = data[col].str.replace(\"9\", \"g\")\n",
    "    data[col] = data[col].str.replace(\"6\", \"g\")\n",
    "    data[col] = data[col].str.replace(\"@\", \"a\")\n",
    "    data[col] = data[col].str.replace(\"$\", \"s\")\n",
    "    data[col] = data[col].str.replace(\"#ofc\", \" of fuckin course \")\n",
    "    data[col] = data[col].str.replace(\"fggt\", \" faggot \")\n",
    "    data[col] = data[col].str.replace(\"your\", \" your \")\n",
    "    data[col] = data[col].str.replace(\"self\", \" self \")\n",
    "    data[col] = data[col].str.replace(\"cuntbag\", \" cunt bag \")\n",
    "    data[col] = data[col].str.replace(\"fartchina\", \" fart china \")    \n",
    "    data[col] = data[col].str.replace(\"youi\", \" you i \")\n",
    "    data[col] = data[col].str.replace(\"cunti\", \" cunt i \")\n",
    "    data[col] = data[col].str.replace(\"sucki\", \" suck i \")\n",
    "    data[col] = data[col].str.replace(\"pagedelete\", \" page delete \")\n",
    "    data[col] = data[col].str.replace(\"cuntsi\", \" cuntsi \")\n",
    "    data[col] = data[col].str.replace(\"i'm\", \" i am \")\n",
    "    data[col] = data[col].str.replace(\"offuck\", \" of fuck \")\n",
    "    data[col] = data[col].str.replace(\"centraliststupid\", \" central ist stupid \")\n",
    "    data[col] = data[col].str.replace(\"hitleri\", \" hitler i \")\n",
    "    data[col] = data[col].str.replace(\"i've\", \" i have \")\n",
    "    data[col] = data[col].str.replace(\"i'll\", \" sick \")\n",
    "    data[col] = data[col].str.replace(\"fuck\", \" fuck \")\n",
    "    data[col] = data[col].str.replace(\"f u c k\", \" fuck \")\n",
    "    data[col] = data[col].str.replace(\"shit\", \" shit \")\n",
    "    data[col] = data[col].str.replace(\"bunksteve\", \" bunk steve \")\n",
    "    data[col] = data[col].str.replace('wikipedia', ' social medium ')\n",
    "    data[col] = data[col].str.replace(\"faggot\", \" faggot \")\n",
    "    data[col] = data[col].str.replace(\"delanoy\", \" delanoy \")\n",
    "    data[col] = data[col].str.replace(\"jewish\", \" jewish \")\n",
    "    data[col] = data[col].str.replace(\"sexsex\", \" sex \")\n",
    "    data[col] = data[col].str.replace(\"allii\", \" all ii \")\n",
    "    data[col] = data[col].str.replace(\"i'd\", \" i had \")\n",
    "    data[col] = data[col].str.replace(\"'s\", \" is \")\n",
    "    data[col] = data[col].str.replace(\"youbollocks\", \" you bollocks \")\n",
    "    data[col] = data[col].str.replace(\"dick\", \" dick \")\n",
    "    data[col] = data[col].str.replace(\"cuntsi\", \" cuntsi \")\n",
    "    data[col] = data[col].str.replace(\"mothjer\", \" mother \")\n",
    "    data[col] = data[col].str.replace(\"cuntfranks\", \" cunt \")\n",
    "    data[col] = data[col].str.replace(\"ullmann\", \" jewish \")\n",
    "    data[col] = data[col].str.replace(\"mr.\", \" mister \")\n",
    "    data[col] = data[col].str.replace(\"aidsaids\", \" aids \")\n",
    "    data[col] = data[col].str.replace(\"njgw\", \" nigger \")\n",
    "    data[col] = data[col].str.replace(\"wiki\", \" social medium \")\n",
    "    data[col] = data[col].str.replace(\"administrator\", \" admin \")\n",
    "    data[col] = data[col].str.replace(\"gamaliel\", \" jewish \")\n",
    "    data[col] = data[col].str.replace(\"rvv\", \" vanadalism \")\n",
    "    data[col] = data[col].str.replace(\"admins\", \" admin \")\n",
    "    data[col] = data[col].str.replace(\"pensnsnniensnsn\", \" penis \")\n",
    "    data[col] = data[col].str.replace(\"pneis\", \" penis \")\n",
    "    data[col] = data[col].str.replace(\"pennnis\", \" penis \")\n",
    "    data[col] = data[col].str.replace(\"pov.\", \" point of view \")\n",
    "    data[col] = data[col].str.replace(\"vandalising\", \" vandalism \")\n",
    "    data[col] = data[col].str.replace(\"cock\", \" dick \")\n",
    "    data[col] = data[col].str.replace(\"asshole\", \" asshole \")\n",
    "    data[col] = data[col].str.replace(\"youi\", \" you \")\n",
    "    data[col] = data[col].str.replace(\"afd\", \" all fucking day \")\n",
    "    data[col] = data[col].str.replace(\"sockpuppets\", \" sockpuppetry \")\n",
    "    data[col] = data[col].str.replace(\"iiprick\", \" iprick \")\n",
    "    data[col] = data[col].str.replace(\"penisi\", \" penis \")\n",
    "    data[col] = data[col].str.replace(\"warrior\", \" warrior \")\n",
    "    data[col] = data[col].str.replace(\"loil\", \" laughing out insanely loud \")\n",
    "    data[col] = data[col].str.replace(\"vandalise\", \" vanadalism \")\n",
    "    data[col] = data[col].str.replace(\"helli\", \" helli \")\n",
    "    data[col] = data[col].str.replace(\"lunchablesi\", \" lunchablesi \")\n",
    "    data[col] = data[col].str.replace(\"special\", \" special \")\n",
    "    data[col] = data[col].str.replace(\"ilol\", \" i lol \")\n",
    "    data[col] = data[col].str.replace(r'\\b[uU]\\b', 'you')\n",
    "    data[col] = data[col].str.replace(r\"what's\", \"what is \")\n",
    "    data[col] = data[col].str.replace(r\"\\'s\", \" is \")\n",
    "    data[col] = data[col].str.replace(r\"\\'ve\", \" have \")\n",
    "    data[col] = data[col].str.replace(r\"can't\", \"cannot \")\n",
    "    data[col] = data[col].str.replace(r\"n't\", \" not \")\n",
    "    data[col] = data[col].str.replace(r\"i'm\", \"i am \")\n",
    "    data[col] = data[col].str.replace(r\"\\'re\", \" are \")\n",
    "    data[col] = data[col].str.replace(r\"\\'d\", \" would \")\n",
    "    data[col] = data[col].str.replace(r\"\\'ll\", \" will \")\n",
    "    data[col] = data[col].str.replace(r\"\\'scuse\", \" excuse \")\n",
    "    data[col] = data[col].str.replace('\\s+', ' ')  # will remove more than one whitespace character\n",
    "#     text = re.sub(r'\\b([^\\W\\d_]+)(\\s+\\1)+\\b', r'\\1', re.sub(r'\\W+', ' ', text).strip(), flags=re.I)  # remove repeating words coming immediately one after another\n",
    "    data[col] = data[col].str.replace(r'(.)\\1+', r'\\1\\1') # 2 or more characters are replaced by 2 characters\n",
    "#     text = re.sub(r'((\\b\\w+\\b.{1,2}\\w+\\b)+).+\\1', r'\\1', text, flags = re.I)\n",
    "    data[col] = data[col].str.replace(\"[:|♣|'|§|♠|*|/|?|=|%|&|-|#|•|~|^|>|<|►|_]\", '')\n",
    "    \n",
    "    \n",
    "    data[col] = data[col].str.replace(r\"what's\", \"what is \")    \n",
    "    data[col] = data[col].str.replace(r\"\\'ve\", \" have \")\n",
    "    data[col] = data[col].str.replace(r\"can't\", \"cannot \")\n",
    "    data[col] = data[col].str.replace(r\"n't\", \" not \")\n",
    "    data[col] = data[col].str.replace(r\"i'm\", \"i am \")\n",
    "    data[col] = data[col].str.replace(r\"\\'re\", \" are \")\n",
    "    data[col] = data[col].str.replace(r\"\\'d\", \" would \")\n",
    "    data[col] = data[col].str.replace(r\"\\'ll\", \" will \")\n",
    "    data[col] = data[col].str.replace(r\"\\'scuse\", \" excuse \")\n",
    "    data[col] = data[col].str.replace(r\"\\'s\", \" \")\n",
    "\n",
    "    # Clean some punctutations\n",
    "    data[col] = data[col].str.replace('\\n', ' \\n ')\n",
    "    data[col] = data[col].str.replace(r'([a-zA-Z]+)([/!?.])([a-zA-Z]+)',r'\\1 \\2 \\3')\n",
    "    # Replace repeating characters more than 3 times to length of 3\n",
    "    data[col] = data[col].str.replace(r'([*!?\\'])\\1\\1{2,}',r'\\1\\1\\1')    \n",
    "    # Add space around repeating characters\n",
    "    data[col] = data[col].str.replace(r'([*!?\\']+)',r' \\1 ')    \n",
    "    # patterns with repeating characters \n",
    "    data[col] = data[col].str.replace(r'([a-zA-Z])\\1{2,}\\b',r'\\1\\1')\n",
    "    data[col] = data[col].str.replace(r'([a-zA-Z])\\1\\1{2,}\\B',r'\\1\\1\\1')\n",
    "    data[col] = data[col].str.replace(r'[ ]{2,}',' ').str.strip()   \n",
    "    data[col] = data[col].str.replace(r'[ ]{2,}',' ').str.strip()   \n",
    "    data[col] = data[col].apply(lambda x: ' '.join([word for word in x.split() if word not in (stop)]))\n",
    "    \n",
    "    return data"
   ]
  },
  {
   "cell_type": "code",
   "execution_count": 6,
   "id": "4ea2fd25",
   "metadata": {
    "execution": {
     "iopub.execute_input": "2022-01-11T10:44:25.813625Z",
     "iopub.status.busy": "2022-01-11T10:44:25.812407Z",
     "iopub.status.idle": "2022-01-11T10:44:25.815389Z",
     "shell.execute_reply": "2022-01-11T10:44:25.816019Z",
     "shell.execute_reply.started": "2022-01-10T17:05:02.782928Z"
    },
    "papermill": {
     "duration": 0.048155,
     "end_time": "2022-01-11T10:44:25.816204",
     "exception": false,
     "start_time": "2022-01-11T10:44:25.768049",
     "status": "completed"
    },
    "tags": []
   },
   "outputs": [],
   "source": [
    "def add_FE(df,X, var):\n",
    "    df['nr_upper'] = df[var].str.findall(r'[A-Z]').str.len()\n",
    "    df['len_text'] = df[var].str.len()\n",
    "    df['pct_upper'] = df['nr_upper'] / df['len_text']\n",
    "    X1 = pd.concat((X,df['pct_upper']), axis=1)\n",
    "    return X1"
   ]
  },
  {
   "cell_type": "code",
   "execution_count": 7,
   "id": "7ec918ad",
   "metadata": {
    "execution": {
     "iopub.execute_input": "2022-01-11T10:44:25.899202Z",
     "iopub.status.busy": "2022-01-11T10:44:25.898175Z",
     "iopub.status.idle": "2022-01-11T10:44:25.901378Z",
     "shell.execute_reply": "2022-01-11T10:44:25.900837Z",
     "shell.execute_reply.started": "2022-01-10T17:05:02.798604Z"
    },
    "papermill": {
     "duration": 0.047912,
     "end_time": "2022-01-11T10:44:25.901510",
     "exception": false,
     "start_time": "2022-01-11T10:44:25.853598",
     "status": "completed"
    },
    "tags": []
   },
   "outputs": [],
   "source": [
    "def add_FE_np(df,X, var):\n",
    "    df['nr_upper'] = df[var].str.findall(r'[A-Z]').str.len()\n",
    "    df['len_text'] = df[var].str.len()\n",
    "    df['pct_upper'] = df['nr_upper'] / df['len_text']\n",
    "    X1 = hstack((X,df['pct_upper'].values[:,None]))\n",
    "    return X1"
   ]
  },
  {
   "cell_type": "code",
   "execution_count": 8,
   "id": "f2db3534",
   "metadata": {
    "execution": {
     "iopub.execute_input": "2022-01-11T10:44:25.994035Z",
     "iopub.status.busy": "2022-01-11T10:44:25.992390Z",
     "iopub.status.idle": "2022-01-11T10:44:26.066700Z",
     "shell.execute_reply": "2022-01-11T10:44:26.066101Z",
     "shell.execute_reply.started": "2022-01-10T17:05:02.807858Z"
    },
    "papermill": {
     "duration": 0.127744,
     "end_time": "2022-01-11T10:44:26.066855",
     "exception": false,
     "start_time": "2022-01-11T10:44:25.939111",
     "status": "completed"
    },
    "tags": []
   },
   "outputs": [],
   "source": [
    "# Create a score that messure how much toxic is a comment\n",
    "cat_mtpl = {'obscene': 0.16, 'toxic': 0.32, 'threat': 1.5, \n",
    "            'insult': 0.64, 'severe_toxic': 1.5, 'identity_hate': 1.5}\n",
    "\n",
    "# cat_mtpl = {'obscene': 3, 'toxic': 4, 'threat': 4, \n",
    "#             'insult': 2, 'severe_toxic': 4, 'identity_hate': 2}\n",
    "\n",
    "for category in cat_mtpl:\n",
    "    df_train[category] = df_train[category] * cat_mtpl[category]\n",
    "\n",
    "df_train['score'] = df_train.loc[:, 'toxic':'identity_hate'].sum(axis=1)\n",
    "\n",
    "df_train['y'] = df_train['score']\n",
    "'''\n",
    "min_len = (df_train['y'] > 0).sum()  # len of toxic comments\n",
    "df_y0_undersample = df_train[df_train['y'] == 0].sample(n=min_len, random_state=201)  # take non toxic comments\n",
    "df_train_new = pd.concat([df_train[df_train['y'] > 0], df_y0_undersample])  # make new df\n",
    "df_train_new'''\n",
    "df_train_caps = df_train.copy()\n",
    "df_train_new = df_train.copy()"
   ]
  },
  {
   "cell_type": "code",
   "execution_count": 9,
   "id": "aad67816",
   "metadata": {
    "execution": {
     "iopub.execute_input": "2022-01-11T10:44:26.152236Z",
     "iopub.status.busy": "2022-01-11T10:44:26.151297Z",
     "iopub.status.idle": "2022-01-11T10:46:08.782075Z",
     "shell.execute_reply": "2022-01-11T10:46:08.781004Z",
     "shell.execute_reply.started": "2022-01-10T17:05:02.886291Z"
    },
    "papermill": {
     "duration": 102.67639,
     "end_time": "2022-01-11T10:46:08.782296",
     "exception": false,
     "start_time": "2022-01-11T10:44:26.105906",
     "status": "completed"
    },
    "tags": []
   },
   "outputs": [],
   "source": [
    "from nltk.stem import WordNetLemmatizer\n",
    "from nltk.corpus import stopwords\n",
    "\n",
    "\n",
    "lemmatizer = WordNetLemmatizer()\n",
    "stop = stopwords.words('english')\n",
    "\n",
    "# tqdm.pandas()\n",
    "# df_train_new['clean_text'] = df_train_new['comment_text'].progress_apply(text_cleaning)\n",
    "df_train_new = clean(df_train_new, 'comment_text')"
   ]
  },
  {
   "cell_type": "code",
   "execution_count": 10,
   "id": "e1c0fe84",
   "metadata": {
    "execution": {
     "iopub.execute_input": "2022-01-11T10:46:08.865529Z",
     "iopub.status.busy": "2022-01-11T10:46:08.864346Z",
     "iopub.status.idle": "2022-01-11T10:48:12.660028Z",
     "shell.execute_reply": "2022-01-11T10:48:12.660783Z",
     "shell.execute_reply.started": "2022-01-10T17:06:44.141682Z"
    },
    "papermill": {
     "duration": 123.839082,
     "end_time": "2022-01-11T10:48:12.661001",
     "exception": false,
     "start_time": "2022-01-11T10:46:08.821919",
     "status": "completed"
    },
    "tags": []
   },
   "outputs": [
    {
     "data": {
      "application/vnd.jupyter.widget-view+json": {
       "model_id": "529d33fe7a3b4fabb6967bbc5a53f08f",
       "version_major": 2,
       "version_minor": 0
      },
      "text/plain": [
       "  0%|          | 0/159571 [00:00<?, ?it/s]"
      ]
     },
     "metadata": {},
     "output_type": "display_data"
    }
   ],
   "source": [
    "tqdm.pandas()\n",
    "df_train_new['clean_text'] = df_train_new['comment_text'].progress_apply(text_cleaning)"
   ]
  },
  {
   "cell_type": "code",
   "execution_count": 11,
   "id": "6a8cb96d",
   "metadata": {
    "execution": {
     "iopub.execute_input": "2022-01-11T10:48:12.772175Z",
     "iopub.status.busy": "2022-01-11T10:48:12.770960Z",
     "iopub.status.idle": "2022-01-11T10:48:15.030625Z",
     "shell.execute_reply": "2022-01-11T10:48:15.029521Z",
     "shell.execute_reply.started": "2022-01-10T17:08:22.164236Z"
    },
    "papermill": {
     "duration": 2.330815,
     "end_time": "2022-01-11T10:48:15.030784",
     "exception": false,
     "start_time": "2022-01-11T10:48:12.699969",
     "status": "completed"
    },
    "tags": []
   },
   "outputs": [],
   "source": [
    "df_train_new = add_FE(df_train_caps,df_train_new, 'comment_text')"
   ]
  },
  {
   "cell_type": "code",
   "execution_count": 12,
   "id": "b054fbdd",
   "metadata": {
    "execution": {
     "iopub.execute_input": "2022-01-11T10:48:15.185333Z",
     "iopub.status.busy": "2022-01-11T10:48:15.149292Z",
     "iopub.status.idle": "2022-01-11T10:49:48.466251Z",
     "shell.execute_reply": "2022-01-11T10:49:48.466851Z",
     "shell.execute_reply.started": "2022-01-10T17:08:24.468682Z"
    },
    "papermill": {
     "duration": 93.397917,
     "end_time": "2022-01-11T10:49:48.467086",
     "exception": false,
     "start_time": "2022-01-11T10:48:15.069169",
     "status": "completed"
    },
    "tags": []
   },
   "outputs": [
    {
     "data": {
      "text/plain": [
       "<159571x202178 sparse matrix of type '<class 'numpy.float64'>'\n",
       "\twith 58327449 stored elements in Compressed Sparse Row format>"
      ]
     },
     "execution_count": 12,
     "metadata": {},
     "output_type": "execute_result"
    }
   ],
   "source": [
    "labels = df_train_new['y']\n",
    "comments = df_train_new['clean_text']\n",
    "\n",
    "vectorizer = TfidfVectorizer(min_df=3, max_df=0.5, analyzer='char_wb', ngram_range=(3,5))\n",
    "comments_tr = vectorizer.fit_transform(comments)\n",
    "comments_tr"
   ]
  },
  {
   "cell_type": "code",
   "execution_count": 13,
   "id": "df7feb3e",
   "metadata": {
    "execution": {
     "iopub.execute_input": "2022-01-11T10:49:48.590548Z",
     "iopub.status.busy": "2022-01-11T10:49:48.589363Z",
     "iopub.status.idle": "2022-01-11T10:49:52.699946Z",
     "shell.execute_reply": "2022-01-11T10:49:52.698982Z",
     "shell.execute_reply.started": "2022-01-10T17:09:49.189614Z"
    },
    "papermill": {
     "duration": 4.183712,
     "end_time": "2022-01-11T10:49:52.700098",
     "exception": false,
     "start_time": "2022-01-11T10:49:48.516386",
     "status": "completed"
    },
    "tags": []
   },
   "outputs": [],
   "source": [
    "comments_tr = add_FE_np(df_train_caps,comments_tr, \"comment_text\")"
   ]
  },
  {
   "cell_type": "code",
   "execution_count": 14,
   "id": "290c0f96",
   "metadata": {
    "execution": {
     "iopub.execute_input": "2022-01-11T10:49:52.799964Z",
     "iopub.status.busy": "2022-01-11T10:49:52.798941Z",
     "iopub.status.idle": "2022-01-11T10:51:02.355556Z",
     "shell.execute_reply": "2022-01-11T10:51:02.356620Z",
     "shell.execute_reply.started": "2022-01-10T17:09:52.811959Z"
    },
    "papermill": {
     "duration": 69.618018,
     "end_time": "2022-01-11T10:51:02.356940",
     "exception": false,
     "start_time": "2022-01-11T10:49:52.738922",
     "status": "completed"
    },
    "tags": []
   },
   "outputs": [
    {
     "data": {
      "text/plain": [
       "Ridge(alpha=0.8, random_state=42)"
      ]
     },
     "execution_count": 14,
     "metadata": {},
     "output_type": "execute_result"
    }
   ],
   "source": [
    "regressor = Ridge(random_state=42, alpha=0.8)\n",
    "regressor.fit(comments_tr, labels)"
   ]
  },
  {
   "cell_type": "code",
   "execution_count": 15,
   "id": "45d311e2",
   "metadata": {
    "execution": {
     "iopub.execute_input": "2022-01-11T10:51:02.454606Z",
     "iopub.status.busy": "2022-01-11T10:51:02.453583Z",
     "iopub.status.idle": "2022-01-11T10:51:02.457443Z",
     "shell.execute_reply": "2022-01-11T10:51:02.457988Z",
     "shell.execute_reply.started": "2022-01-10T17:10:38.343594Z"
    },
    "papermill": {
     "duration": 0.048664,
     "end_time": "2022-01-11T10:51:02.458128",
     "exception": false,
     "start_time": "2022-01-11T10:51:02.409464",
     "status": "completed"
    },
    "tags": []
   },
   "outputs": [
    {
     "data": {
      "text/plain": [
       "'tqdm.pandas()\\ndf_validation_data = clean(df_validation_data, \\'less_toxic\\')\\ndf_validation_data = clean(df_validation_data, \\'more_toxic\\')\\ndf_validation_data[\\'less_toxic\\'] = df_validation_data[\\'less_toxic\\'].progress_apply(text_cleaning)\\ndf_validation_data[\\'more_toxic\\'] = df_validation_data[\\'more_toxic\\'].progress_apply(text_cleaning)\\n\\nless_toxic = vectorizer.transform(df_validation_data[\\'less_toxic\\'])\\nmore_toxic = vectorizer.transform(df_validation_data[\\'more_toxic\\'])\\n\\nless_toxic = add_FE_np(df_validation_data_caps,less_toxic, \"less_toxic\")\\nmore_toxic = add_FE_np(df_validation_data_caps,more_toxic, \"more_toxic\")\\n\\n# make predictions\\ny_pred_less_model2 = regressor.predict(less_toxic)\\ny_pred_more_model2 = regressor.predict(more_toxic)\\n\\n(y_pred_less_model2 < y_pred_more_model2).mean()'"
      ]
     },
     "execution_count": 15,
     "metadata": {},
     "output_type": "execute_result"
    }
   ],
   "source": [
    "# preprocess val data\n",
    "\n",
    "'''tqdm.pandas()\n",
    "df_validation_data = clean(df_validation_data, 'less_toxic')\n",
    "df_validation_data = clean(df_validation_data, 'more_toxic')\n",
    "df_validation_data['less_toxic'] = df_validation_data['less_toxic'].progress_apply(text_cleaning)\n",
    "df_validation_data['more_toxic'] = df_validation_data['more_toxic'].progress_apply(text_cleaning)\n",
    "\n",
    "less_toxic = vectorizer.transform(df_validation_data['less_toxic'])\n",
    "more_toxic = vectorizer.transform(df_validation_data['more_toxic'])\n",
    "\n",
    "less_toxic = add_FE_np(df_validation_data_caps,less_toxic, \"less_toxic\")\n",
    "more_toxic = add_FE_np(df_validation_data_caps,more_toxic, \"more_toxic\")\n",
    "\n",
    "# make predictions\n",
    "y_pred_less_model2 = regressor.predict(less_toxic)\n",
    "y_pred_more_model2 = regressor.predict(more_toxic)\n",
    "\n",
    "(y_pred_less_model2 < y_pred_more_model2).mean()'''"
   ]
  },
  {
   "cell_type": "code",
   "execution_count": 16,
   "id": "742b6a36",
   "metadata": {
    "execution": {
     "iopub.execute_input": "2022-01-11T10:51:02.540880Z",
     "iopub.status.busy": "2022-01-11T10:51:02.539995Z",
     "iopub.status.idle": "2022-01-11T10:51:02.543493Z",
     "shell.execute_reply": "2022-01-11T10:51:02.544109Z",
     "shell.execute_reply.started": "2022-01-10T19:09:36.203192Z"
    },
    "papermill": {
     "duration": 0.047834,
     "end_time": "2022-01-11T10:51:02.544270",
     "exception": false,
     "start_time": "2022-01-11T10:51:02.496436",
     "status": "completed"
    },
    "tags": []
   },
   "outputs": [
    {
     "data": {
      "text/plain": [
       "'import matplotlib.pyplot as plt\\nplt.hist(pd.concat( (pd.Series(y_pred_less_model2),pd.Series(y_pred_more_model2)) ,axis=1))\\nplt.show()'"
      ]
     },
     "execution_count": 16,
     "metadata": {},
     "output_type": "execute_result"
    }
   ],
   "source": [
    "'''import matplotlib.pyplot as plt\n",
    "plt.hist(pd.concat( (pd.Series(y_pred_less_model2),pd.Series(y_pred_more_model2)) ,axis=1))\n",
    "plt.show()'''"
   ]
  },
  {
   "cell_type": "markdown",
   "id": "aa9788ad",
   "metadata": {
    "papermill": {
     "duration": 0.039537,
     "end_time": "2022-01-11T10:51:02.622384",
     "exception": false,
     "start_time": "2022-01-11T10:51:02.582847",
     "status": "completed"
    },
    "tags": []
   },
   "source": [
    "#### Scaling the output and making it a probability"
   ]
  },
  {
   "cell_type": "code",
   "execution_count": 17,
   "id": "7b3e2d03",
   "metadata": {
    "execution": {
     "iopub.execute_input": "2022-01-11T10:51:02.704534Z",
     "iopub.status.busy": "2022-01-11T10:51:02.703339Z",
     "iopub.status.idle": "2022-01-11T10:51:02.710268Z",
     "shell.execute_reply": "2022-01-11T10:51:02.710779Z",
     "shell.execute_reply.started": "2022-01-10T19:20:28.520029Z"
    },
    "papermill": {
     "duration": 0.049957,
     "end_time": "2022-01-11T10:51:02.710936",
     "exception": false,
     "start_time": "2022-01-11T10:51:02.660979",
     "status": "completed"
    },
    "tags": []
   },
   "outputs": [
    {
     "data": {
      "text/plain": [
       "'full = pd.concat( (pd.Series(y_pred_less_model2),pd.Series(y_pred_more_model2)) ,axis=0)\\n\\nfrom sklearn.preprocessing import MinMaxScaler\\nscaler = MinMaxScaler(feature_range=(-6,+6))\\nfull_scale = scaler.fit_transform(full.values.reshape(-1, 1))\\n\\navg_full_scale = np.mean(full_scale)\\nfull_scale = full_scale - avg_full_scale\\nfull_scale = 1/ (1 + np.exp(-full_scale))\\n\\ny_pred_less_model2_sc = full_scale[:len(y_pred_less_model2),:].reshape(1, -1)[0]\\ny_pred_more_model2_sc = full_scale[len(y_pred_less_model2):,:].reshape(1, -1)[0]\\n(y_pred_less_model2_sc < y_pred_more_model2_sc).mean()'"
      ]
     },
     "execution_count": 17,
     "metadata": {},
     "output_type": "execute_result"
    }
   ],
   "source": [
    "'''full = pd.concat( (pd.Series(y_pred_less_model2),pd.Series(y_pred_more_model2)) ,axis=0)\n",
    "\n",
    "from sklearn.preprocessing import MinMaxScaler\n",
    "scaler = MinMaxScaler(feature_range=(-6,+6))\n",
    "full_scale = scaler.fit_transform(full.values.reshape(-1, 1))\n",
    "\n",
    "avg_full_scale = np.mean(full_scale)\n",
    "full_scale = full_scale - avg_full_scale\n",
    "full_scale = 1/ (1 + np.exp(-full_scale))\n",
    "\n",
    "y_pred_less_model2_sc = full_scale[:len(y_pred_less_model2),:].reshape(1, -1)[0]\n",
    "y_pred_more_model2_sc = full_scale[len(y_pred_less_model2):,:].reshape(1, -1)[0]\n",
    "(y_pred_less_model2_sc < y_pred_more_model2_sc).mean()'''"
   ]
  },
  {
   "cell_type": "code",
   "execution_count": 18,
   "id": "88f97d49",
   "metadata": {
    "execution": {
     "iopub.execute_input": "2022-01-11T10:51:02.796938Z",
     "iopub.status.busy": "2022-01-11T10:51:02.796044Z",
     "iopub.status.idle": "2022-01-11T10:51:02.799636Z",
     "shell.execute_reply": "2022-01-11T10:51:02.800378Z",
     "shell.execute_reply.started": "2022-01-10T19:20:33.021992Z"
    },
    "papermill": {
     "duration": 0.050131,
     "end_time": "2022-01-11T10:51:02.800570",
     "exception": false,
     "start_time": "2022-01-11T10:51:02.750439",
     "status": "completed"
    },
    "tags": []
   },
   "outputs": [
    {
     "data": {
      "text/plain": [
       "'import matplotlib.pyplot as plt\\nplt.hist(pd.concat( (pd.Series(y_pred_less_model2_sc),pd.Series(y_pred_more_model2_sc)),axis=1))\\nplt.show()'"
      ]
     },
     "execution_count": 18,
     "metadata": {},
     "output_type": "execute_result"
    }
   ],
   "source": [
    "'''import matplotlib.pyplot as plt\n",
    "plt.hist(pd.concat( (pd.Series(y_pred_less_model2_sc),pd.Series(y_pred_more_model2_sc)),axis=1))\n",
    "plt.show()'''"
   ]
  },
  {
   "cell_type": "code",
   "execution_count": 19,
   "id": "a01d3d6e",
   "metadata": {
    "execution": {
     "iopub.execute_input": "2022-01-11T10:51:02.909089Z",
     "iopub.status.busy": "2022-01-11T10:51:02.893793Z",
     "iopub.status.idle": "2022-01-11T10:51:13.667090Z",
     "shell.execute_reply": "2022-01-11T10:51:13.666339Z",
     "shell.execute_reply.started": "2022-01-10T19:07:47.571082Z"
    },
    "papermill": {
     "duration": 10.825744,
     "end_time": "2022-01-11T10:51:13.667311",
     "exception": false,
     "start_time": "2022-01-11T10:51:02.841567",
     "status": "completed"
    },
    "tags": []
   },
   "outputs": [
    {
     "data": {
      "application/vnd.jupyter.widget-view+json": {
       "model_id": "4d9b060b5d18489c86a84e0895ce45e5",
       "version_major": 2,
       "version_minor": 0
      },
      "text/plain": [
       "  0%|          | 0/7537 [00:00<?, ?it/s]"
      ]
     },
     "metadata": {},
     "output_type": "display_data"
    }
   ],
   "source": [
    "df_test = clean(df_test, 'text')\n",
    "df_test['text'] = df_test['text'].progress_apply(text_cleaning)"
   ]
  },
  {
   "cell_type": "code",
   "execution_count": 20,
   "id": "9ac79d66",
   "metadata": {
    "execution": {
     "iopub.execute_input": "2022-01-11T10:51:13.768058Z",
     "iopub.status.busy": "2022-01-11T10:51:13.758091Z",
     "iopub.status.idle": "2022-01-11T10:51:18.289994Z",
     "shell.execute_reply": "2022-01-11T10:51:18.289300Z",
     "shell.execute_reply.started": "2022-01-10T19:08:01.347566Z"
    },
    "papermill": {
     "duration": 4.580469,
     "end_time": "2022-01-11T10:51:18.290173",
     "exception": false,
     "start_time": "2022-01-11T10:51:13.709704",
     "status": "completed"
    },
    "tags": []
   },
   "outputs": [],
   "source": [
    "df_test = vectorizer.transform(df_test['text'])\n",
    "df_test = add_FE_np(df_test_caps,df_test, \"text\")\n",
    "pred = regressor.predict(df_test)\n",
    "\n",
    "from sklearn.preprocessing import MinMaxScaler\n",
    "scaler = MinMaxScaler(feature_range=(-6,+6))\n",
    "pred_scale = scaler.fit_transform(pred.reshape(-1, 1))\n",
    "\n",
    "avg_pred_scale = np.mean(pred_scale)\n",
    "pred_scale = pred_scale - avg_pred_scale\n",
    "pred_scale = 1/ (1 + np.exp(-pred_scale))\n",
    "\n",
    "df_test_model2 = pd.concat((pd.DataFrame(df_test_caps['comment_id']), pd.DataFrame(pred_scale, columns=[\"score\"])), axis=1)"
   ]
  },
  {
   "cell_type": "code",
   "execution_count": 21,
   "id": "ca132d32",
   "metadata": {
    "execution": {
     "iopub.execute_input": "2022-01-11T10:51:18.376200Z",
     "iopub.status.busy": "2022-01-11T10:51:18.375147Z",
     "iopub.status.idle": "2022-01-11T10:51:18.382230Z",
     "shell.execute_reply": "2022-01-11T10:51:18.381651Z",
     "shell.execute_reply.started": "2022-01-10T19:21:59.832005Z"
    },
    "papermill": {
     "duration": 0.050606,
     "end_time": "2022-01-11T10:51:18.382373",
     "exception": false,
     "start_time": "2022-01-11T10:51:18.331767",
     "status": "completed"
    },
    "tags": []
   },
   "outputs": [
    {
     "data": {
      "text/plain": [
       "'import matplotlib.pyplot as plt\\nplt.hist(pred_scale)\\nplt.show()'"
      ]
     },
     "execution_count": 21,
     "metadata": {},
     "output_type": "execute_result"
    }
   ],
   "source": [
    "'''import matplotlib.pyplot as plt\n",
    "plt.hist(pred_scale)\n",
    "plt.show()'''"
   ]
  },
  {
   "cell_type": "code",
   "execution_count": 22,
   "id": "f17d3746",
   "metadata": {
    "execution": {
     "iopub.execute_input": "2022-01-11T10:51:18.465418Z",
     "iopub.status.busy": "2022-01-11T10:51:18.464765Z",
     "iopub.status.idle": "2022-01-11T10:51:18.503415Z",
     "shell.execute_reply": "2022-01-11T10:51:18.504364Z",
     "shell.execute_reply.started": "2022-01-10T17:24:46.557845Z"
    },
    "papermill": {
     "duration": 0.083037,
     "end_time": "2022-01-11T10:51:18.504716",
     "exception": false,
     "start_time": "2022-01-11T10:51:18.421679",
     "status": "completed"
    },
    "tags": []
   },
   "outputs": [],
   "source": [
    "df_test_model2.to_csv('./submission_model2.csv', index=False)"
   ]
  },
  {
   "cell_type": "code",
   "execution_count": 23,
   "id": "5901a31c",
   "metadata": {
    "execution": {
     "iopub.execute_input": "2022-01-11T10:51:18.685153Z",
     "iopub.status.busy": "2022-01-11T10:51:18.684133Z",
     "iopub.status.idle": "2022-01-11T10:51:18.954840Z",
     "shell.execute_reply": "2022-01-11T10:51:18.956095Z",
     "shell.execute_reply.started": "2022-01-10T17:12:30.774157Z"
    },
    "papermill": {
     "duration": 0.369336,
     "end_time": "2022-01-11T10:51:18.956397",
     "exception": false,
     "start_time": "2022-01-11T10:51:18.587061",
     "status": "completed"
    },
    "tags": []
   },
   "outputs": [
    {
     "data": {
      "text/plain": [
       "1357"
      ]
     },
     "execution_count": 23,
     "metadata": {},
     "output_type": "execute_result"
    }
   ],
   "source": [
    "del df_test, comments_tr, regressor\n",
    "gc.collect()"
   ]
  },
  {
   "cell_type": "markdown",
   "id": "7a4b2e51",
   "metadata": {
    "papermill": {
     "duration": 0.070407,
     "end_time": "2022-01-11T10:51:19.097630",
     "exception": false,
     "start_time": "2022-01-11T10:51:19.027223",
     "status": "completed"
    },
    "tags": []
   },
   "source": [
    "# Roberta Model + RandomForest (Orig Data)"
   ]
  },
  {
   "cell_type": "code",
   "execution_count": 24,
   "id": "c31acbb7",
   "metadata": {
    "execution": {
     "iopub.execute_input": "2022-01-11T10:51:19.203775Z",
     "iopub.status.busy": "2022-01-11T10:51:19.202980Z",
     "iopub.status.idle": "2022-01-11T10:51:26.669528Z",
     "shell.execute_reply": "2022-01-11T10:51:26.668893Z",
     "shell.execute_reply.started": "2022-01-10T17:24:48.85892Z"
    },
    "papermill": {
     "duration": 7.515291,
     "end_time": "2022-01-11T10:51:26.669673",
     "exception": false,
     "start_time": "2022-01-11T10:51:19.154382",
     "status": "completed"
    },
    "tags": []
   },
   "outputs": [],
   "source": [
    "import pandas as pd\n",
    "import numpy as np\n",
    "from sklearn.naive_bayes import MultinomialNB\n",
    "from sklearn.feature_extraction.text import TfidfVectorizer\n",
    "from scipy import sparse\n",
    "from sklearn.linear_model import LogisticRegression\n",
    "from sklearn.ensemble import RandomForestClassifier\n",
    "import torch\n",
    "#from torch.utils.data import Dataset, DataLoader\n",
    "from transformers import AutoTokenizer, AutoModel"
   ]
  },
  {
   "cell_type": "code",
   "execution_count": 25,
   "id": "ebb8f3df",
   "metadata": {
    "execution": {
     "iopub.execute_input": "2022-01-11T10:51:26.763321Z",
     "iopub.status.busy": "2022-01-11T10:51:26.762463Z",
     "iopub.status.idle": "2022-01-11T10:51:27.714302Z",
     "shell.execute_reply": "2022-01-11T10:51:27.713673Z",
     "shell.execute_reply.started": "2022-01-10T17:24:54.846113Z"
    },
    "papermill": {
     "duration": 1.002989,
     "end_time": "2022-01-11T10:51:27.714462",
     "exception": false,
     "start_time": "2022-01-11T10:51:26.711473",
     "status": "completed"
    },
    "tags": []
   },
   "outputs": [],
   "source": [
    "df = pd.read_csv(\"../input/jigsaw-toxic-comment-classification-challenge/train.csv\")\n",
    "df['y'] = (df[['toxic', 'severe_toxic', 'obscene', 'threat', 'insult', 'identity_hate']].sum(axis=1) > 0 ).astype(int)\n",
    "df = df[['comment_text', 'y']].rename(columns={'comment_text': 'text'})"
   ]
  },
  {
   "cell_type": "code",
   "execution_count": 26,
   "id": "475349c2",
   "metadata": {
    "execution": {
     "iopub.execute_input": "2022-01-11T10:51:27.809128Z",
     "iopub.status.busy": "2022-01-11T10:51:27.799126Z",
     "iopub.status.idle": "2022-01-11T10:51:27.812278Z",
     "shell.execute_reply": "2022-01-11T10:51:27.811660Z",
     "shell.execute_reply.started": "2022-01-10T17:24:55.757922Z"
    },
    "papermill": {
     "duration": 0.057044,
     "end_time": "2022-01-11T10:51:27.812404",
     "exception": false,
     "start_time": "2022-01-11T10:51:27.755360",
     "status": "completed"
    },
    "tags": []
   },
   "outputs": [],
   "source": [
    "class Dataset:\n",
    "    def __init__(self, text, tokenizer, max_len):\n",
    "        self.text = text\n",
    "        self.tokenizer = tokenizer\n",
    "        self.max_len = max_len\n",
    "\n",
    "    def __len__(self):\n",
    "        return len(self.text)\n",
    "\n",
    "    def __getitem__(self, item):\n",
    "        text = str(self.text[item])\n",
    "        inputs = self.tokenizer(\n",
    "            text, \n",
    "            max_length=self.max_len, \n",
    "            padding=\"max_length\", \n",
    "            truncation=True\n",
    "        )\n",
    "\n",
    "        ids = inputs[\"input_ids\"]\n",
    "        mask = inputs[\"attention_mask\"]\n",
    "\n",
    "        return {\n",
    "            \"input_ids\": torch.tensor(ids, dtype=torch.long),\n",
    "            \"attention_mask\": torch.tensor(mask, dtype=torch.long),\n",
    "        }\n",
    "    \n",
    "def generate_predictions(df, var, model_path, max_len):\n",
    "    model = AutoModel.from_pretrained(model_path, return_dict=False)\n",
    "    tokenizer = AutoTokenizer.from_pretrained(model_path)\n",
    "\n",
    "    model.to(\"cuda\")\n",
    "    model.eval()\n",
    "    \n",
    "    dataset = Dataset(text=df[var].values, tokenizer=tokenizer, max_len=max_len)\n",
    "    data_loader = torch.utils.data.DataLoader(\n",
    "        dataset, batch_size=32, num_workers=4, pin_memory=True, shuffle=False\n",
    "    )\n",
    "\n",
    "    final_output = []\n",
    "\n",
    "    for b_idx, data in enumerate(data_loader):\n",
    "        with torch.no_grad():\n",
    "            for key, value in data.items():\n",
    "                data[key] = value.to(\"cuda\")\n",
    "            _, output = model(**data)\n",
    "            output = output.cpu().numpy()\n",
    "            final_output.extend(output)\n",
    "    \n",
    "    torch.cuda.empty_cache()\n",
    "    return  np.array(final_output)"
   ]
  },
  {
   "cell_type": "code",
   "execution_count": 27,
   "id": "04feba90",
   "metadata": {
    "execution": {
     "iopub.execute_input": "2022-01-11T10:51:27.898088Z",
     "iopub.status.busy": "2022-01-11T10:51:27.896925Z",
     "iopub.status.idle": "2022-01-11T11:07:37.251118Z",
     "shell.execute_reply": "2022-01-11T11:07:37.251702Z",
     "shell.execute_reply.started": "2022-01-10T17:24:55.772759Z"
    },
    "papermill": {
     "duration": 969.399392,
     "end_time": "2022-01-11T11:07:37.251924",
     "exception": false,
     "start_time": "2022-01-11T10:51:27.852532",
     "status": "completed"
    },
    "tags": []
   },
   "outputs": [],
   "source": [
    "model_path =  '../input/roberta-base/'\n",
    "X = generate_predictions(df, 'text', model_path, max_len=192)"
   ]
  },
  {
   "cell_type": "code",
   "execution_count": 28,
   "id": "0b0cd93f",
   "metadata": {
    "execution": {
     "iopub.execute_input": "2022-01-11T11:07:37.389819Z",
     "iopub.status.busy": "2022-01-11T11:07:37.388726Z",
     "iopub.status.idle": "2022-01-11T11:07:40.270295Z",
     "shell.execute_reply": "2022-01-11T11:07:40.269100Z",
     "shell.execute_reply.started": "2022-01-10T17:47:50.377054Z"
    },
    "papermill": {
     "duration": 2.975631,
     "end_time": "2022-01-11T11:07:40.270502",
     "exception": false,
     "start_time": "2022-01-11T11:07:37.294871",
     "status": "completed"
    },
    "tags": []
   },
   "outputs": [],
   "source": [
    "def add_FE2(df,X, var):\n",
    "    df['nr_upper'] = df[var].str.findall(r'[A-Z]').str.len()\n",
    "    df['len_text'] = df[var].str.len()\n",
    "    df['pct_upper'] = df['nr_upper'] / df['len_text']\n",
    "    X1 = np.hstack((X,df['pct_upper'].values[:,None]))\n",
    "    return X1\n",
    "X = add_FE2(df,X,'text')"
   ]
  },
  {
   "cell_type": "code",
   "execution_count": 29,
   "id": "f980cde9",
   "metadata": {
    "execution": {
     "iopub.execute_input": "2022-01-11T11:07:40.375795Z",
     "iopub.status.busy": "2022-01-11T11:07:40.374590Z",
     "iopub.status.idle": "2022-01-11T11:15:06.981558Z",
     "shell.execute_reply": "2022-01-11T11:15:06.982103Z",
     "shell.execute_reply.started": "2022-01-10T17:48:56.773531Z"
    },
    "papermill": {
     "duration": 446.670399,
     "end_time": "2022-01-11T11:15:06.982292",
     "exception": false,
     "start_time": "2022-01-11T11:07:40.311893",
     "status": "completed"
    },
    "tags": []
   },
   "outputs": [
    {
     "data": {
      "text/plain": [
       "RandomForestClassifier(class_weight='balanced', max_depth=32,\n",
       "                       min_samples_leaf=50, random_state=0)"
      ]
     },
     "execution_count": 29,
     "metadata": {},
     "output_type": "execute_result"
    }
   ],
   "source": [
    "model = RandomForestClassifier(random_state=0, n_estimators=100, max_depth=32, min_samples_leaf=50, class_weight=\"balanced\")\n",
    "model.fit(X, df['y']) "
   ]
  },
  {
   "cell_type": "code",
   "execution_count": 30,
   "id": "b88663ac",
   "metadata": {
    "execution": {
     "iopub.execute_input": "2022-01-11T11:15:07.377846Z",
     "iopub.status.busy": "2022-01-11T11:15:07.071362Z",
     "iopub.status.idle": "2022-01-11T11:15:07.384569Z",
     "shell.execute_reply": "2022-01-11T11:15:07.383953Z",
     "shell.execute_reply.started": "2022-01-10T17:12:30.78748Z"
    },
    "papermill": {
     "duration": 0.362024,
     "end_time": "2022-01-11T11:15:07.384764",
     "exception": false,
     "start_time": "2022-01-11T11:15:07.022740",
     "status": "completed"
    },
    "tags": []
   },
   "outputs": [
    {
     "data": {
      "text/plain": [
       "64"
      ]
     },
     "execution_count": 30,
     "metadata": {},
     "output_type": "execute_result"
    }
   ],
   "source": [
    "del X, df\n",
    "gc.collect()"
   ]
  },
  {
   "cell_type": "code",
   "execution_count": 31,
   "id": "32a7a8ea",
   "metadata": {
    "execution": {
     "iopub.execute_input": "2022-01-11T11:15:07.475757Z",
     "iopub.status.busy": "2022-01-11T11:15:07.474778Z",
     "iopub.status.idle": "2022-01-11T11:15:07.478390Z",
     "shell.execute_reply": "2022-01-11T11:15:07.479018Z",
     "shell.execute_reply.started": "2022-01-10T17:56:22.9586Z"
    },
    "papermill": {
     "duration": 0.051388,
     "end_time": "2022-01-11T11:15:07.479151",
     "exception": false,
     "start_time": "2022-01-11T11:15:07.427763",
     "status": "completed"
    },
    "tags": []
   },
   "outputs": [
    {
     "data": {
      "text/plain": [
       "'df_val = pd.read_csv(\"../input/jigsaw-toxic-severity-rating/validation_data.csv\")\\nX_less_toxic = generate_predictions(df_val, \\'less_toxic\\', model_path, max_len=192)\\nX_more_toxic = generate_predictions(df_val, \\'more_toxic\\', model_path, max_len=192)\\nX_less_toxic = add_FE2(df_val,X_less_toxic,\\'less_toxic\\')\\nX_more_toxic = add_FE2(df_val,X_more_toxic,\\'more_toxic\\')\\ny_pred_less_model4 = model.predict_proba(X_less_toxic)\\ny_pred_more_model4 = model.predict_proba(X_more_toxic)\\n(y_pred_less_model4[:, 1] < y_pred_more_model4[:, 1]).mean()'"
      ]
     },
     "execution_count": 31,
     "metadata": {},
     "output_type": "execute_result"
    }
   ],
   "source": [
    "'''df_val = pd.read_csv(\"../input/jigsaw-toxic-severity-rating/validation_data.csv\")\n",
    "X_less_toxic = generate_predictions(df_val, 'less_toxic', model_path, max_len=192)\n",
    "X_more_toxic = generate_predictions(df_val, 'more_toxic', model_path, max_len=192)\n",
    "X_less_toxic = add_FE2(df_val,X_less_toxic,'less_toxic')\n",
    "X_more_toxic = add_FE2(df_val,X_more_toxic,'more_toxic')\n",
    "y_pred_less_model4 = model.predict_proba(X_less_toxic)\n",
    "y_pred_more_model4 = model.predict_proba(X_more_toxic)\n",
    "(y_pred_less_model4[:, 1] < y_pred_more_model4[:, 1]).mean()'''"
   ]
  },
  {
   "cell_type": "code",
   "execution_count": 32,
   "id": "91a32a41",
   "metadata": {
    "execution": {
     "iopub.execute_input": "2022-01-11T11:15:07.572621Z",
     "iopub.status.busy": "2022-01-11T11:15:07.571507Z",
     "iopub.status.idle": "2022-01-11T11:15:07.576132Z",
     "shell.execute_reply": "2022-01-11T11:15:07.575610Z",
     "shell.execute_reply.started": "2022-01-10T18:02:32.0954Z"
    },
    "papermill": {
     "duration": 0.050746,
     "end_time": "2022-01-11T11:15:07.576288",
     "exception": false,
     "start_time": "2022-01-11T11:15:07.525542",
     "status": "completed"
    },
    "tags": []
   },
   "outputs": [
    {
     "data": {
      "text/plain": [
       "'import matplotlib.pyplot as plt\\nplt.hist(pd.concat( (pd.Series(y_pred_less_model4[:, 1]),pd.Series(y_pred_more_model4[:, 1])) ,axis=1))\\nplt.show()'"
      ]
     },
     "execution_count": 32,
     "metadata": {},
     "output_type": "execute_result"
    }
   ],
   "source": [
    "'''import matplotlib.pyplot as plt\n",
    "plt.hist(pd.concat( (pd.Series(y_pred_less_model4[:, 1]),pd.Series(y_pred_more_model4[:, 1])) ,axis=1))\n",
    "plt.show()'''"
   ]
  },
  {
   "cell_type": "code",
   "execution_count": 33,
   "id": "c4e43ef5",
   "metadata": {
    "execution": {
     "iopub.execute_input": "2022-01-11T11:15:07.668578Z",
     "iopub.status.busy": "2022-01-11T11:15:07.667288Z",
     "iopub.status.idle": "2022-01-11T11:15:07.672945Z",
     "shell.execute_reply": "2022-01-11T11:15:07.672392Z",
     "shell.execute_reply.started": "2022-01-10T19:20:45.11915Z"
    },
    "papermill": {
     "duration": 0.052836,
     "end_time": "2022-01-11T11:15:07.673085",
     "exception": false,
     "start_time": "2022-01-11T11:15:07.620249",
     "status": "completed"
    },
    "tags": []
   },
   "outputs": [
    {
     "data": {
      "text/plain": [
       "'y_pred_less_model = 0.8 * y_pred_less_model2_sc + 0.2 * y_pred_less_model4[:,1]\\ny_pred_more_model = 0.8 * y_pred_more_model2_sc + 0.2 * y_pred_more_model4[:,1]\\nprint((y_pred_less_model < y_pred_more_model).mean())'"
      ]
     },
     "execution_count": 33,
     "metadata": {},
     "output_type": "execute_result"
    }
   ],
   "source": [
    "'''y_pred_less_model = 0.8 * y_pred_less_model2_sc + 0.2 * y_pred_less_model4[:,1]\n",
    "y_pred_more_model = 0.8 * y_pred_more_model2_sc + 0.2 * y_pred_more_model4[:,1]\n",
    "print((y_pred_less_model < y_pred_more_model).mean())'''"
   ]
  },
  {
   "cell_type": "code",
   "execution_count": 34,
   "id": "949d7545",
   "metadata": {
    "execution": {
     "iopub.execute_input": "2022-01-11T11:15:07.764510Z",
     "iopub.status.busy": "2022-01-11T11:15:07.763695Z",
     "iopub.status.idle": "2022-01-11T11:15:56.537042Z",
     "shell.execute_reply": "2022-01-11T11:15:56.536073Z",
     "shell.execute_reply.started": "2022-01-10T17:47:47.837267Z"
    },
    "papermill": {
     "duration": 48.820759,
     "end_time": "2022-01-11T11:15:56.537214",
     "exception": false,
     "start_time": "2022-01-11T11:15:07.716455",
     "status": "completed"
    },
    "tags": []
   },
   "outputs": [],
   "source": [
    "df_sub = pd.read_csv(TEST_DATA_PATH)\n",
    "#X_test = vec.transform(df_sub['text'])\n",
    "X_test = generate_predictions(df_sub, 'text', model_path, max_len=192)\n",
    "X_test = add_FE2(df_sub,X_test,'text')\n",
    "df_test_model4 = model.predict_proba(X_test)\n",
    "df_sub['score'] = df_test_model4[:, 1]"
   ]
  },
  {
   "cell_type": "code",
   "execution_count": 35,
   "id": "addaa64c",
   "metadata": {
    "execution": {
     "iopub.execute_input": "2022-01-11T11:15:56.627639Z",
     "iopub.status.busy": "2022-01-11T11:15:56.623915Z",
     "iopub.status.idle": "2022-01-11T11:15:56.659435Z",
     "shell.execute_reply": "2022-01-11T11:15:56.658850Z",
     "shell.execute_reply.started": "2022-01-10T17:47:47.839235Z"
    },
    "papermill": {
     "duration": 0.079767,
     "end_time": "2022-01-11T11:15:56.659561",
     "exception": false,
     "start_time": "2022-01-11T11:15:56.579794",
     "status": "completed"
    },
    "tags": []
   },
   "outputs": [],
   "source": [
    "df_sub[['comment_id', 'score']].to_csv(\"submission_model4.csv\", index=False)"
   ]
  },
  {
   "cell_type": "code",
   "execution_count": 36,
   "id": "f9059075",
   "metadata": {
    "execution": {
     "iopub.execute_input": "2022-01-11T11:15:56.748791Z",
     "iopub.status.busy": "2022-01-11T11:15:56.747865Z",
     "iopub.status.idle": "2022-01-11T11:15:56.751647Z",
     "shell.execute_reply": "2022-01-11T11:15:56.752163Z",
     "shell.execute_reply.started": "2022-01-10T17:12:30.801624Z"
    },
    "papermill": {
     "duration": 0.051329,
     "end_time": "2022-01-11T11:15:56.752337",
     "exception": false,
     "start_time": "2022-01-11T11:15:56.701008",
     "status": "completed"
    },
    "tags": []
   },
   "outputs": [
    {
     "data": {
      "text/plain": [
       "'from sklearn.preprocessing import MinMaxScaler\\nscaler = MinMaxScaler()\\ny_pred_less_model1_norm = scaler.fit_transform(y_pred_less_model1.reshape(-1, 1))\\ny_pred_more_model1_norm = scaler.fit_transform(y_pred_more_model1.reshape(-1, 1))\\ny_pred_less_model1_norm = y_pred_less_model1_norm.reshape(1, -1)[0]\\ny_pred_more_model1_norm = y_pred_more_model1_norm.reshape(1, -1)[0]\\nscaler = MinMaxScaler()\\ny_pred_less_model2_norm = scaler.fit_transform(y_pred_less_model2.reshape(-1, 1))\\ny_pred_more_model2_norm = scaler.fit_transform(y_pred_more_model2.reshape(-1, 1))\\ny_pred_less_model2_norm = y_pred_less_model2_norm.reshape(1, -1)[0]\\ny_pred_more_model2_norm = y_pred_more_model2_norm.reshape(1, -1)[0]'"
      ]
     },
     "execution_count": 36,
     "metadata": {},
     "output_type": "execute_result"
    }
   ],
   "source": [
    "'''from sklearn.preprocessing import MinMaxScaler\n",
    "scaler = MinMaxScaler()\n",
    "y_pred_less_model1_norm = scaler.fit_transform(y_pred_less_model1.reshape(-1, 1))\n",
    "y_pred_more_model1_norm = scaler.fit_transform(y_pred_more_model1.reshape(-1, 1))\n",
    "y_pred_less_model1_norm = y_pred_less_model1_norm.reshape(1, -1)[0]\n",
    "y_pred_more_model1_norm = y_pred_more_model1_norm.reshape(1, -1)[0]\n",
    "scaler = MinMaxScaler()\n",
    "y_pred_less_model2_norm = scaler.fit_transform(y_pred_less_model2.reshape(-1, 1))\n",
    "y_pred_more_model2_norm = scaler.fit_transform(y_pred_more_model2.reshape(-1, 1))\n",
    "y_pred_less_model2_norm = y_pred_less_model2_norm.reshape(1, -1)[0]\n",
    "y_pred_more_model2_norm = y_pred_more_model2_norm.reshape(1, -1)[0]'''"
   ]
  },
  {
   "cell_type": "code",
   "execution_count": 37,
   "id": "e2220208",
   "metadata": {
    "execution": {
     "iopub.execute_input": "2022-01-11T11:15:56.842270Z",
     "iopub.status.busy": "2022-01-11T11:15:56.841588Z",
     "iopub.status.idle": "2022-01-11T11:15:56.847753Z",
     "shell.execute_reply": "2022-01-11T11:15:56.847077Z",
     "shell.execute_reply.started": "2022-01-10T17:12:30.803281Z"
    },
    "papermill": {
     "duration": 0.053665,
     "end_time": "2022-01-11T11:15:56.847885",
     "exception": false,
     "start_time": "2022-01-11T11:15:56.794220",
     "status": "completed"
    },
    "tags": []
   },
   "outputs": [
    {
     "data": {
      "text/plain": [
       "'import optuna\\n\\noptuna.logging.set_verbosity(100)\\n\\ndef objective(trial):\\n    \\n    param = {\\n        \"m1\": trial.suggest_float(\"m1\", 0.01, 1),\\n        \"m2\": trial.suggest_float(\"m2\", 0.01, 1),\\n        \"m3\": trial.suggest_float(\"m3\", 0.01, 1),\\n        \"m4\": trial.suggest_float(\"m4\", 0.01, 1)}\\n        \\n    y_pred_less_model_ens = (param[\"m1\"] * y_pred_less_model1 + param[\"m2\"] * y_pred_less_model2_norm + param[\"m3\"] * y_pred_less_model3[:, 1] + param[\"m4\"] * y_pred_less_model4[:, 1])\\n    y_pred_more_model_ens = (param[\"m1\"] * y_pred_more_model1 + param[\"m2\"] * y_pred_more_model2_norm + param[\"m3\"] * y_pred_more_model3[:, 1] + param[\"m4\"] * y_pred_more_model4[:, 1])\\n    \\n    return (y_pred_less_model_ens < y_pred_more_model_ens).mean()\\n    \\nstudy = optuna.create_study(direction=\"maximize\")\\nstudy.optimize(objective , n_trials =2000)\\n\\ntrial = study.best_trial\\nprint(\"Best trial: {}\".format(trial))'"
      ]
     },
     "execution_count": 37,
     "metadata": {},
     "output_type": "execute_result"
    }
   ],
   "source": [
    "'''import optuna\n",
    "\n",
    "optuna.logging.set_verbosity(100)\n",
    "\n",
    "def objective(trial):\n",
    "    \n",
    "    param = {\n",
    "        \"m1\": trial.suggest_float(\"m1\", 0.01, 1),\n",
    "        \"m2\": trial.suggest_float(\"m2\", 0.01, 1),\n",
    "        \"m3\": trial.suggest_float(\"m3\", 0.01, 1),\n",
    "        \"m4\": trial.suggest_float(\"m4\", 0.01, 1)}\n",
    "        \n",
    "    y_pred_less_model_ens = (param[\"m1\"] * y_pred_less_model1 + param[\"m2\"] * y_pred_less_model2_norm + param[\"m3\"] * y_pred_less_model3[:, 1] + param[\"m4\"] * y_pred_less_model4[:, 1])\n",
    "    y_pred_more_model_ens = (param[\"m1\"] * y_pred_more_model1 + param[\"m2\"] * y_pred_more_model2_norm + param[\"m3\"] * y_pred_more_model3[:, 1] + param[\"m4\"] * y_pred_more_model4[:, 1])\n",
    "    \n",
    "    return (y_pred_less_model_ens < y_pred_more_model_ens).mean()\n",
    "    \n",
    "study = optuna.create_study(direction=\"maximize\")\n",
    "study.optimize(objective , n_trials =2000)\n",
    "\n",
    "trial = study.best_trial\n",
    "print(\"Best trial: {}\".format(trial))'''"
   ]
  },
  {
   "cell_type": "markdown",
   "id": "37dc44da",
   "metadata": {
    "papermill": {
     "duration": 0.040152,
     "end_time": "2022-01-11T11:15:56.930626",
     "exception": false,
     "start_time": "2022-01-11T11:15:56.890474",
     "status": "completed"
    },
    "tags": []
   },
   "source": [
    "Best trial: FrozenTrial(number=1475, values=[0.6834396173774412], datetime_start=datetime.datetime(2022, 1, 5, 15, 11, 37, 857491), datetime_complete=datetime.datetime(2022, 1, 5, 15, 11, 37, 907676), params={'m1': 0.9554502249585517, 'm2': 0.010723429404399047, 'm3': 0.1600814882140605, 'm4': 0.5083912320129206}, distributions={'m1': UniformDistribution(high=1.0, low=0.01), 'm2': UniformDistribution(high=1.0, low=0.01), 'm3': UniformDistribution(high=1.0, low=0.01), 'm4': UniformDistribution(high=1.0, low=0.01)}, user_attrs={}, system_attrs={}, intermediate_values={}, trial_id=1475, state=TrialState.COMPLETE, value=None)"
   ]
  },
  {
   "cell_type": "code",
   "execution_count": 38,
   "id": "421d0767",
   "metadata": {
    "execution": {
     "iopub.execute_input": "2022-01-11T11:15:57.020156Z",
     "iopub.status.busy": "2022-01-11T11:15:57.019547Z",
     "iopub.status.idle": "2022-01-11T11:15:57.024115Z",
     "shell.execute_reply": "2022-01-11T11:15:57.023623Z",
     "shell.execute_reply.started": "2022-01-10T17:12:30.805422Z"
    },
    "papermill": {
     "duration": 0.052698,
     "end_time": "2022-01-11T11:15:57.024268",
     "exception": false,
     "start_time": "2022-01-11T11:15:56.971570",
     "status": "completed"
    },
    "tags": []
   },
   "outputs": [],
   "source": [
    "df_test_model_ens = df_test_model2.copy()\n",
    "df_test_model_ens['score'] = 0.8 * df_test_model2['score'] +  0.2 * df_test_model4[:, 1]"
   ]
  },
  {
   "cell_type": "code",
   "execution_count": 39,
   "id": "27c565a2",
   "metadata": {
    "execution": {
     "iopub.execute_input": "2022-01-11T11:15:57.116487Z",
     "iopub.status.busy": "2022-01-11T11:15:57.115460Z",
     "iopub.status.idle": "2022-01-11T11:15:57.146706Z",
     "shell.execute_reply": "2022-01-11T11:15:57.146078Z",
     "shell.execute_reply.started": "2022-01-10T17:12:30.807548Z"
    },
    "papermill": {
     "duration": 0.080307,
     "end_time": "2022-01-11T11:15:57.146843",
     "exception": false,
     "start_time": "2022-01-11T11:15:57.066536",
     "status": "completed"
    },
    "tags": []
   },
   "outputs": [],
   "source": [
    "df_test_model_ens.to_csv('./submission.csv', index=False)"
   ]
  }
 ],
 "metadata": {
  "kernelspec": {
   "display_name": "Python 3",
   "language": "python",
   "name": "python3"
  },
  "language_info": {
   "codemirror_mode": {
    "name": "ipython",
    "version": 3
   },
   "file_extension": ".py",
   "mimetype": "text/x-python",
   "name": "python",
   "nbconvert_exporter": "python",
   "pygments_lexer": "ipython3",
   "version": "3.7.10"
  },
  "papermill": {
   "default_parameters": {},
   "duration": 1909.720737,
   "end_time": "2022-01-11T11:16:00.344433",
   "environment_variables": {},
   "exception": null,
   "input_path": "__notebook__.ipynb",
   "output_path": "__notebook__.ipynb",
   "parameters": {},
   "start_time": "2022-01-11T10:44:10.623696",
   "version": "2.3.3"
  },
  "widgets": {
   "application/vnd.jupyter.widget-state+json": {
    "state": {
     "052f73f9c1de48b3a0a923dd0cda20a9": {
      "model_module": "@jupyter-widgets/controls",
      "model_module_version": "1.5.0",
      "model_name": "ProgressStyleModel",
      "state": {
       "_model_module": "@jupyter-widgets/controls",
       "_model_module_version": "1.5.0",
       "_model_name": "ProgressStyleModel",
       "_view_count": null,
       "_view_module": "@jupyter-widgets/base",
       "_view_module_version": "1.2.0",
       "_view_name": "StyleView",
       "bar_color": null,
       "description_width": ""
      }
     },
     "146eb447fcf24293b2937fa4b6d9b40d": {
      "model_module": "@jupyter-widgets/controls",
      "model_module_version": "1.5.0",
      "model_name": "ProgressStyleModel",
      "state": {
       "_model_module": "@jupyter-widgets/controls",
       "_model_module_version": "1.5.0",
       "_model_name": "ProgressStyleModel",
       "_view_count": null,
       "_view_module": "@jupyter-widgets/base",
       "_view_module_version": "1.2.0",
       "_view_name": "StyleView",
       "bar_color": null,
       "description_width": ""
      }
     },
     "1a4f799705d149dfb65451f5e1180faa": {
      "model_module": "@jupyter-widgets/controls",
      "model_module_version": "1.5.0",
      "model_name": "HTMLModel",
      "state": {
       "_dom_classes": [],
       "_model_module": "@jupyter-widgets/controls",
       "_model_module_version": "1.5.0",
       "_model_name": "HTMLModel",
       "_view_count": null,
       "_view_module": "@jupyter-widgets/controls",
       "_view_module_version": "1.5.0",
       "_view_name": "HTMLView",
       "description": "",
       "description_tooltip": null,
       "layout": "IPY_MODEL_2a3af9f025a948b899fecad8cfc647e2",
       "placeholder": "​",
       "style": "IPY_MODEL_c4e7e9b6f05a49c4bd47b447734bd902",
       "value": " 159571/159571 [02:03&lt;00:00, 1270.25it/s]"
      }
     },
     "2460de29436e4d25826e3460bde7f7c0": {
      "model_module": "@jupyter-widgets/controls",
      "model_module_version": "1.5.0",
      "model_name": "DescriptionStyleModel",
      "state": {
       "_model_module": "@jupyter-widgets/controls",
       "_model_module_version": "1.5.0",
       "_model_name": "DescriptionStyleModel",
       "_view_count": null,
       "_view_module": "@jupyter-widgets/base",
       "_view_module_version": "1.2.0",
       "_view_name": "StyleView",
       "description_width": ""
      }
     },
     "27648359602b42ad8894428966a69140": {
      "model_module": "@jupyter-widgets/controls",
      "model_module_version": "1.5.0",
      "model_name": "HTMLModel",
      "state": {
       "_dom_classes": [],
       "_model_module": "@jupyter-widgets/controls",
       "_model_module_version": "1.5.0",
       "_model_name": "HTMLModel",
       "_view_count": null,
       "_view_module": "@jupyter-widgets/controls",
       "_view_module_version": "1.5.0",
       "_view_name": "HTMLView",
       "description": "",
       "description_tooltip": null,
       "layout": "IPY_MODEL_737504d6397948e1b64547d8f81c6e32",
       "placeholder": "​",
       "style": "IPY_MODEL_d3efcf5b7e9e4d289d257804251b336b",
       "value": " 7537/7537 [00:06&lt;00:00, 1370.19it/s]"
      }
     },
     "2a3af9f025a948b899fecad8cfc647e2": {
      "model_module": "@jupyter-widgets/base",
      "model_module_version": "1.2.0",
      "model_name": "LayoutModel",
      "state": {
       "_model_module": "@jupyter-widgets/base",
       "_model_module_version": "1.2.0",
       "_model_name": "LayoutModel",
       "_view_count": null,
       "_view_module": "@jupyter-widgets/base",
       "_view_module_version": "1.2.0",
       "_view_name": "LayoutView",
       "align_content": null,
       "align_items": null,
       "align_self": null,
       "border": null,
       "bottom": null,
       "display": null,
       "flex": null,
       "flex_flow": null,
       "grid_area": null,
       "grid_auto_columns": null,
       "grid_auto_flow": null,
       "grid_auto_rows": null,
       "grid_column": null,
       "grid_gap": null,
       "grid_row": null,
       "grid_template_areas": null,
       "grid_template_columns": null,
       "grid_template_rows": null,
       "height": null,
       "justify_content": null,
       "justify_items": null,
       "left": null,
       "margin": null,
       "max_height": null,
       "max_width": null,
       "min_height": null,
       "min_width": null,
       "object_fit": null,
       "object_position": null,
       "order": null,
       "overflow": null,
       "overflow_x": null,
       "overflow_y": null,
       "padding": null,
       "right": null,
       "top": null,
       "visibility": null,
       "width": null
      }
     },
     "45f30d6516e8422c9e782782ec49930d": {
      "model_module": "@jupyter-widgets/controls",
      "model_module_version": "1.5.0",
      "model_name": "DescriptionStyleModel",
      "state": {
       "_model_module": "@jupyter-widgets/controls",
       "_model_module_version": "1.5.0",
       "_model_name": "DescriptionStyleModel",
       "_view_count": null,
       "_view_module": "@jupyter-widgets/base",
       "_view_module_version": "1.2.0",
       "_view_name": "StyleView",
       "description_width": ""
      }
     },
     "4d9b060b5d18489c86a84e0895ce45e5": {
      "model_module": "@jupyter-widgets/controls",
      "model_module_version": "1.5.0",
      "model_name": "HBoxModel",
      "state": {
       "_dom_classes": [],
       "_model_module": "@jupyter-widgets/controls",
       "_model_module_version": "1.5.0",
       "_model_name": "HBoxModel",
       "_view_count": null,
       "_view_module": "@jupyter-widgets/controls",
       "_view_module_version": "1.5.0",
       "_view_name": "HBoxView",
       "box_style": "",
       "children": [
        "IPY_MODEL_50b16e979e1a4f66829bc240f0a92f63",
        "IPY_MODEL_d4660be7a65742819cf2404f289bb9b4",
        "IPY_MODEL_27648359602b42ad8894428966a69140"
       ],
       "layout": "IPY_MODEL_6ffd858b33fa4fe3b474e4754e8fd328"
      }
     },
     "50b16e979e1a4f66829bc240f0a92f63": {
      "model_module": "@jupyter-widgets/controls",
      "model_module_version": "1.5.0",
      "model_name": "HTMLModel",
      "state": {
       "_dom_classes": [],
       "_model_module": "@jupyter-widgets/controls",
       "_model_module_version": "1.5.0",
       "_model_name": "HTMLModel",
       "_view_count": null,
       "_view_module": "@jupyter-widgets/controls",
       "_view_module_version": "1.5.0",
       "_view_name": "HTMLView",
       "description": "",
       "description_tooltip": null,
       "layout": "IPY_MODEL_b59da25b95fb474cb3d7df6b3b46f383",
       "placeholder": "​",
       "style": "IPY_MODEL_45f30d6516e8422c9e782782ec49930d",
       "value": "100%"
      }
     },
     "529d33fe7a3b4fabb6967bbc5a53f08f": {
      "model_module": "@jupyter-widgets/controls",
      "model_module_version": "1.5.0",
      "model_name": "HBoxModel",
      "state": {
       "_dom_classes": [],
       "_model_module": "@jupyter-widgets/controls",
       "_model_module_version": "1.5.0",
       "_model_name": "HBoxModel",
       "_view_count": null,
       "_view_module": "@jupyter-widgets/controls",
       "_view_module_version": "1.5.0",
       "_view_name": "HBoxView",
       "box_style": "",
       "children": [
        "IPY_MODEL_fedc7034fdfd42168f1c796e651a6965",
        "IPY_MODEL_ffc21ccf7a7f45a5a091385fed7452bc",
        "IPY_MODEL_1a4f799705d149dfb65451f5e1180faa"
       ],
       "layout": "IPY_MODEL_823c842ee8364e68a66ce12b824f3b93"
      }
     },
     "6ffd858b33fa4fe3b474e4754e8fd328": {
      "model_module": "@jupyter-widgets/base",
      "model_module_version": "1.2.0",
      "model_name": "LayoutModel",
      "state": {
       "_model_module": "@jupyter-widgets/base",
       "_model_module_version": "1.2.0",
       "_model_name": "LayoutModel",
       "_view_count": null,
       "_view_module": "@jupyter-widgets/base",
       "_view_module_version": "1.2.0",
       "_view_name": "LayoutView",
       "align_content": null,
       "align_items": null,
       "align_self": null,
       "border": null,
       "bottom": null,
       "display": null,
       "flex": null,
       "flex_flow": null,
       "grid_area": null,
       "grid_auto_columns": null,
       "grid_auto_flow": null,
       "grid_auto_rows": null,
       "grid_column": null,
       "grid_gap": null,
       "grid_row": null,
       "grid_template_areas": null,
       "grid_template_columns": null,
       "grid_template_rows": null,
       "height": null,
       "justify_content": null,
       "justify_items": null,
       "left": null,
       "margin": null,
       "max_height": null,
       "max_width": null,
       "min_height": null,
       "min_width": null,
       "object_fit": null,
       "object_position": null,
       "order": null,
       "overflow": null,
       "overflow_x": null,
       "overflow_y": null,
       "padding": null,
       "right": null,
       "top": null,
       "visibility": null,
       "width": null
      }
     },
     "737504d6397948e1b64547d8f81c6e32": {
      "model_module": "@jupyter-widgets/base",
      "model_module_version": "1.2.0",
      "model_name": "LayoutModel",
      "state": {
       "_model_module": "@jupyter-widgets/base",
       "_model_module_version": "1.2.0",
       "_model_name": "LayoutModel",
       "_view_count": null,
       "_view_module": "@jupyter-widgets/base",
       "_view_module_version": "1.2.0",
       "_view_name": "LayoutView",
       "align_content": null,
       "align_items": null,
       "align_self": null,
       "border": null,
       "bottom": null,
       "display": null,
       "flex": null,
       "flex_flow": null,
       "grid_area": null,
       "grid_auto_columns": null,
       "grid_auto_flow": null,
       "grid_auto_rows": null,
       "grid_column": null,
       "grid_gap": null,
       "grid_row": null,
       "grid_template_areas": null,
       "grid_template_columns": null,
       "grid_template_rows": null,
       "height": null,
       "justify_content": null,
       "justify_items": null,
       "left": null,
       "margin": null,
       "max_height": null,
       "max_width": null,
       "min_height": null,
       "min_width": null,
       "object_fit": null,
       "object_position": null,
       "order": null,
       "overflow": null,
       "overflow_x": null,
       "overflow_y": null,
       "padding": null,
       "right": null,
       "top": null,
       "visibility": null,
       "width": null
      }
     },
     "823c842ee8364e68a66ce12b824f3b93": {
      "model_module": "@jupyter-widgets/base",
      "model_module_version": "1.2.0",
      "model_name": "LayoutModel",
      "state": {
       "_model_module": "@jupyter-widgets/base",
       "_model_module_version": "1.2.0",
       "_model_name": "LayoutModel",
       "_view_count": null,
       "_view_module": "@jupyter-widgets/base",
       "_view_module_version": "1.2.0",
       "_view_name": "LayoutView",
       "align_content": null,
       "align_items": null,
       "align_self": null,
       "border": null,
       "bottom": null,
       "display": null,
       "flex": null,
       "flex_flow": null,
       "grid_area": null,
       "grid_auto_columns": null,
       "grid_auto_flow": null,
       "grid_auto_rows": null,
       "grid_column": null,
       "grid_gap": null,
       "grid_row": null,
       "grid_template_areas": null,
       "grid_template_columns": null,
       "grid_template_rows": null,
       "height": null,
       "justify_content": null,
       "justify_items": null,
       "left": null,
       "margin": null,
       "max_height": null,
       "max_width": null,
       "min_height": null,
       "min_width": null,
       "object_fit": null,
       "object_position": null,
       "order": null,
       "overflow": null,
       "overflow_x": null,
       "overflow_y": null,
       "padding": null,
       "right": null,
       "top": null,
       "visibility": null,
       "width": null
      }
     },
     "9deb0ea9d2064628b2541d25af51721d": {
      "model_module": "@jupyter-widgets/base",
      "model_module_version": "1.2.0",
      "model_name": "LayoutModel",
      "state": {
       "_model_module": "@jupyter-widgets/base",
       "_model_module_version": "1.2.0",
       "_model_name": "LayoutModel",
       "_view_count": null,
       "_view_module": "@jupyter-widgets/base",
       "_view_module_version": "1.2.0",
       "_view_name": "LayoutView",
       "align_content": null,
       "align_items": null,
       "align_self": null,
       "border": null,
       "bottom": null,
       "display": null,
       "flex": null,
       "flex_flow": null,
       "grid_area": null,
       "grid_auto_columns": null,
       "grid_auto_flow": null,
       "grid_auto_rows": null,
       "grid_column": null,
       "grid_gap": null,
       "grid_row": null,
       "grid_template_areas": null,
       "grid_template_columns": null,
       "grid_template_rows": null,
       "height": null,
       "justify_content": null,
       "justify_items": null,
       "left": null,
       "margin": null,
       "max_height": null,
       "max_width": null,
       "min_height": null,
       "min_width": null,
       "object_fit": null,
       "object_position": null,
       "order": null,
       "overflow": null,
       "overflow_x": null,
       "overflow_y": null,
       "padding": null,
       "right": null,
       "top": null,
       "visibility": null,
       "width": null
      }
     },
     "b59da25b95fb474cb3d7df6b3b46f383": {
      "model_module": "@jupyter-widgets/base",
      "model_module_version": "1.2.0",
      "model_name": "LayoutModel",
      "state": {
       "_model_module": "@jupyter-widgets/base",
       "_model_module_version": "1.2.0",
       "_model_name": "LayoutModel",
       "_view_count": null,
       "_view_module": "@jupyter-widgets/base",
       "_view_module_version": "1.2.0",
       "_view_name": "LayoutView",
       "align_content": null,
       "align_items": null,
       "align_self": null,
       "border": null,
       "bottom": null,
       "display": null,
       "flex": null,
       "flex_flow": null,
       "grid_area": null,
       "grid_auto_columns": null,
       "grid_auto_flow": null,
       "grid_auto_rows": null,
       "grid_column": null,
       "grid_gap": null,
       "grid_row": null,
       "grid_template_areas": null,
       "grid_template_columns": null,
       "grid_template_rows": null,
       "height": null,
       "justify_content": null,
       "justify_items": null,
       "left": null,
       "margin": null,
       "max_height": null,
       "max_width": null,
       "min_height": null,
       "min_width": null,
       "object_fit": null,
       "object_position": null,
       "order": null,
       "overflow": null,
       "overflow_x": null,
       "overflow_y": null,
       "padding": null,
       "right": null,
       "top": null,
       "visibility": null,
       "width": null
      }
     },
     "c4e7e9b6f05a49c4bd47b447734bd902": {
      "model_module": "@jupyter-widgets/controls",
      "model_module_version": "1.5.0",
      "model_name": "DescriptionStyleModel",
      "state": {
       "_model_module": "@jupyter-widgets/controls",
       "_model_module_version": "1.5.0",
       "_model_name": "DescriptionStyleModel",
       "_view_count": null,
       "_view_module": "@jupyter-widgets/base",
       "_view_module_version": "1.2.0",
       "_view_name": "StyleView",
       "description_width": ""
      }
     },
     "cbbcdad218104a7d9e6586e668ef34fa": {
      "model_module": "@jupyter-widgets/base",
      "model_module_version": "1.2.0",
      "model_name": "LayoutModel",
      "state": {
       "_model_module": "@jupyter-widgets/base",
       "_model_module_version": "1.2.0",
       "_model_name": "LayoutModel",
       "_view_count": null,
       "_view_module": "@jupyter-widgets/base",
       "_view_module_version": "1.2.0",
       "_view_name": "LayoutView",
       "align_content": null,
       "align_items": null,
       "align_self": null,
       "border": null,
       "bottom": null,
       "display": null,
       "flex": null,
       "flex_flow": null,
       "grid_area": null,
       "grid_auto_columns": null,
       "grid_auto_flow": null,
       "grid_auto_rows": null,
       "grid_column": null,
       "grid_gap": null,
       "grid_row": null,
       "grid_template_areas": null,
       "grid_template_columns": null,
       "grid_template_rows": null,
       "height": null,
       "justify_content": null,
       "justify_items": null,
       "left": null,
       "margin": null,
       "max_height": null,
       "max_width": null,
       "min_height": null,
       "min_width": null,
       "object_fit": null,
       "object_position": null,
       "order": null,
       "overflow": null,
       "overflow_x": null,
       "overflow_y": null,
       "padding": null,
       "right": null,
       "top": null,
       "visibility": null,
       "width": null
      }
     },
     "d3efcf5b7e9e4d289d257804251b336b": {
      "model_module": "@jupyter-widgets/controls",
      "model_module_version": "1.5.0",
      "model_name": "DescriptionStyleModel",
      "state": {
       "_model_module": "@jupyter-widgets/controls",
       "_model_module_version": "1.5.0",
       "_model_name": "DescriptionStyleModel",
       "_view_count": null,
       "_view_module": "@jupyter-widgets/base",
       "_view_module_version": "1.2.0",
       "_view_name": "StyleView",
       "description_width": ""
      }
     },
     "d4660be7a65742819cf2404f289bb9b4": {
      "model_module": "@jupyter-widgets/controls",
      "model_module_version": "1.5.0",
      "model_name": "FloatProgressModel",
      "state": {
       "_dom_classes": [],
       "_model_module": "@jupyter-widgets/controls",
       "_model_module_version": "1.5.0",
       "_model_name": "FloatProgressModel",
       "_view_count": null,
       "_view_module": "@jupyter-widgets/controls",
       "_view_module_version": "1.5.0",
       "_view_name": "ProgressView",
       "bar_style": "success",
       "description": "",
       "description_tooltip": null,
       "layout": "IPY_MODEL_cbbcdad218104a7d9e6586e668ef34fa",
       "max": 7537.0,
       "min": 0.0,
       "orientation": "horizontal",
       "style": "IPY_MODEL_146eb447fcf24293b2937fa4b6d9b40d",
       "value": 7537.0
      }
     },
     "e267d39587714880b5c2bab963b45bb5": {
      "model_module": "@jupyter-widgets/base",
      "model_module_version": "1.2.0",
      "model_name": "LayoutModel",
      "state": {
       "_model_module": "@jupyter-widgets/base",
       "_model_module_version": "1.2.0",
       "_model_name": "LayoutModel",
       "_view_count": null,
       "_view_module": "@jupyter-widgets/base",
       "_view_module_version": "1.2.0",
       "_view_name": "LayoutView",
       "align_content": null,
       "align_items": null,
       "align_self": null,
       "border": null,
       "bottom": null,
       "display": null,
       "flex": null,
       "flex_flow": null,
       "grid_area": null,
       "grid_auto_columns": null,
       "grid_auto_flow": null,
       "grid_auto_rows": null,
       "grid_column": null,
       "grid_gap": null,
       "grid_row": null,
       "grid_template_areas": null,
       "grid_template_columns": null,
       "grid_template_rows": null,
       "height": null,
       "justify_content": null,
       "justify_items": null,
       "left": null,
       "margin": null,
       "max_height": null,
       "max_width": null,
       "min_height": null,
       "min_width": null,
       "object_fit": null,
       "object_position": null,
       "order": null,
       "overflow": null,
       "overflow_x": null,
       "overflow_y": null,
       "padding": null,
       "right": null,
       "top": null,
       "visibility": null,
       "width": null
      }
     },
     "fedc7034fdfd42168f1c796e651a6965": {
      "model_module": "@jupyter-widgets/controls",
      "model_module_version": "1.5.0",
      "model_name": "HTMLModel",
      "state": {
       "_dom_classes": [],
       "_model_module": "@jupyter-widgets/controls",
       "_model_module_version": "1.5.0",
       "_model_name": "HTMLModel",
       "_view_count": null,
       "_view_module": "@jupyter-widgets/controls",
       "_view_module_version": "1.5.0",
       "_view_name": "HTMLView",
       "description": "",
       "description_tooltip": null,
       "layout": "IPY_MODEL_9deb0ea9d2064628b2541d25af51721d",
       "placeholder": "​",
       "style": "IPY_MODEL_2460de29436e4d25826e3460bde7f7c0",
       "value": "100%"
      }
     },
     "ffc21ccf7a7f45a5a091385fed7452bc": {
      "model_module": "@jupyter-widgets/controls",
      "model_module_version": "1.5.0",
      "model_name": "FloatProgressModel",
      "state": {
       "_dom_classes": [],
       "_model_module": "@jupyter-widgets/controls",
       "_model_module_version": "1.5.0",
       "_model_name": "FloatProgressModel",
       "_view_count": null,
       "_view_module": "@jupyter-widgets/controls",
       "_view_module_version": "1.5.0",
       "_view_name": "ProgressView",
       "bar_style": "success",
       "description": "",
       "description_tooltip": null,
       "layout": "IPY_MODEL_e267d39587714880b5c2bab963b45bb5",
       "max": 159571.0,
       "min": 0.0,
       "orientation": "horizontal",
       "style": "IPY_MODEL_052f73f9c1de48b3a0a923dd0cda20a9",
       "value": 159571.0
      }
     }
    },
    "version_major": 2,
    "version_minor": 0
   }
  }
 },
 "nbformat": 4,
 "nbformat_minor": 5
}
